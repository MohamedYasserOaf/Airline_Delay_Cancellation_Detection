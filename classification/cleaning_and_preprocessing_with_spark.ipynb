{
 "cells": [
  {
   "cell_type": "code",
   "execution_count": 1,
   "metadata": {},
   "outputs": [],
   "source": [
    "from mpl_toolkits.mplot3d import Axes3D\n",
    "import matplotlib.pyplot as plt # plotting\n",
    "import numpy as np\n",
    "import pandas as pd\n",
    "from IPython.display import display\n",
    "import pyarrow\n",
    "import pyspark\n",
    "from pyspark.sql import SparkSession,SQLContext\n",
    "from pyspark.sql.functions import count,isnan,when,col,lit,mean,expr,last,to_date,year,month,dayofmonth\n"
   ]
  },
  {
   "cell_type": "code",
   "execution_count": 2,
   "metadata": {},
   "outputs": [],
   "source": [
    "def distribution(data, continous_feats ,transformed = False):\n",
    "    \"\"\"\n",
    "    Visualization code for displaying skewed distributions of features\n",
    "    \"\"\"\n",
    "    \n",
    "    # Create figure\n",
    "    fig = plt.figure(figsize = (11,5))\n",
    "\n",
    "    # Skewed feature plotting\n",
    "    for i, feature in enumerate(continous_feats):\n",
    "        ax = fig.add_subplot(1, 4, i+1)\n",
    "        ax.hist(data[feature], bins = 25, color = '#00A0A0')\n",
    "        ax.set_title(\"'%s' Feature Distribution\"%(feature), fontsize = 14)\n",
    "        ax.set_xlabel(\"Value\")\n",
    "        ax.set_ylabel(\"Number of Records\")\n",
    "        ax.set_ylim((0, 2000))\n",
    "        ax.set_yticks([0, 500, 1000, 1500, 2000])\n",
    "        ax.set_yticklabels([0, 500, 1000, 1500, \">2000\"])\n",
    "\n",
    "    # Plot aesthetics\n",
    "    if transformed:\n",
    "        fig.suptitle(\"Log-transformed Distributions of Continuous Census Data Features\", \\\n",
    "            fontsize = 16, y = 1.03)\n",
    "    else:\n",
    "        fig.suptitle(\"Skewed Distributions of Continuous Census Data Features\", \\\n",
    "            fontsize = 16, y = 1.03)\n",
    "\n",
    "    fig.tight_layout()\n",
    "    fig.show()"
   ]
  },
  {
   "cell_type": "markdown",
   "metadata": {},
   "source": [
    "## reading data and general cleaning"
   ]
  },
  {
   "cell_type": "code",
   "execution_count": 3,
   "metadata": {},
   "outputs": [],
   "source": [
    "#initialize spark session\n",
    "spark = SparkSession.builder \\\n",
    "    .master('local') \\\n",
    "    .appName('myAppName') \\\n",
    "    .config('spark.executor.memory', '5gb') \\\n",
    "    .config(\"spark.cores.max\", \"8\") \\\n",
    "    .getOrCreate()"
   ]
  },
  {
   "cell_type": "code",
   "execution_count": 4,
   "metadata": {},
   "outputs": [
    {
     "name": "stderr",
     "output_type": "stream",
     "text": [
      "c:\\Users\\myass\\anaconda3\\lib\\site-packages\\pyspark\\sql\\context.py:77: FutureWarning: Deprecated in 3.0.0. Use SparkSession.builder.getOrCreate() instead.\n",
      "  warnings.warn(\n"
     ]
    }
   ],
   "source": [
    "sc = spark.sparkContext #sparkcontext\n",
    "sqlContext = SQLContext(sc)"
   ]
  },
  {
   "cell_type": "code",
   "execution_count": 5,
   "metadata": {},
   "outputs": [],
   "source": [
    "dataset_17 = sqlContext.read.option(\"header\", True).option(\"inferSchema\",True).csv('./Dataset/2017.csv')\n",
    "dataset_18 = sqlContext.read.option(\"header\", True).option(\"inferSchema\",True).csv('./Dataset/2018.csv')\n",
    "dataset = dataset_17.union(dataset_18)"
   ]
  },
  {
   "cell_type": "code",
   "execution_count": 6,
   "metadata": {},
   "outputs": [
    {
     "name": "stdout",
     "output_type": "stream",
     "text": [
      "shape : 12888067 28\n"
     ]
    }
   ],
   "source": [
    "print(\"shape :\",dataset.count(), len(dataset.columns))"
   ]
  },
  {
   "cell_type": "code",
   "execution_count": 7,
   "metadata": {},
   "outputs": [
    {
     "data": {
      "text/plain": [
       "13"
      ]
     },
     "execution_count": 7,
     "metadata": {},
     "output_type": "execute_result"
    }
   ],
   "source": [
    "#show number of partitions -- > it should be equal to number of cores\n",
    "dataset.rdd.getNumPartitions()\n"
   ]
  },
  {
   "cell_type": "code",
   "execution_count": 8,
   "metadata": {},
   "outputs": [
    {
     "name": "stdout",
     "output_type": "stream",
     "text": [
      "+----------+----------+-----------------+------+----+------------+--------+---------+--------+----------+---------+-------+------------+--------+---------+---------+-----------------+--------+----------------+-------------------+--------+--------+-------------+-------------+---------+--------------+-------------------+-----------+\n",
      "|   FL_DATE|OP_CARRIER|OP_CARRIER_FL_NUM|ORIGIN|DEST|CRS_DEP_TIME|DEP_TIME|DEP_DELAY|TAXI_OUT|WHEELS_OFF|WHEELS_ON|TAXI_IN|CRS_ARR_TIME|ARR_TIME|ARR_DELAY|CANCELLED|CANCELLATION_CODE|DIVERTED|CRS_ELAPSED_TIME|ACTUAL_ELAPSED_TIME|AIR_TIME|DISTANCE|CARRIER_DELAY|WEATHER_DELAY|NAS_DELAY|SECURITY_DELAY|LATE_AIRCRAFT_DELAY|Unnamed: 27|\n",
      "+----------+----------+-----------------+------+----+------------+--------+---------+--------+----------+---------+-------+------------+--------+---------+---------+-----------------+--------+----------------+-------------------+--------+--------+-------------+-------------+---------+--------------+-------------------+-----------+\n",
      "|2017-01-01|        AA|                1|   JFK| LAX|         800|   831.0|     31.0|    25.0|     856.0|   1143.0|   26.0|        1142|  1209.0|     27.0|      0.0|             null|     0.0|           402.0|              398.0|   347.0|  2475.0|         27.0|          0.0|      0.0|           0.0|                0.0|       null|\n",
      "|2017-01-01|        AA|                2|   LAX| JFK|         900|   934.0|     34.0|    34.0|    1008.0|   1757.0|   12.0|        1727|  1809.0|     42.0|      0.0|             null|     0.0|           327.0|              335.0|   289.0|  2475.0|         34.0|          0.0|      8.0|           0.0|                0.0|       null|\n",
      "|2017-01-01|        AA|                4|   LAX| JFK|        1130|  1221.0|     51.0|    20.0|    1241.0|   2025.0|   15.0|        1958|  2040.0|     42.0|      0.0|             null|     0.0|           328.0|              319.0|   284.0|  2475.0|          7.0|          0.0|      0.0|           0.0|               35.0|       null|\n",
      "|2017-01-01|        AA|                5|   DFW| HNL|        1135|  1252.0|     77.0|    19.0|    1311.0|   1744.0|    5.0|        1612|  1749.0|     97.0|      0.0|             null|     0.0|           517.0|              537.0|   513.0|  3784.0|         77.0|          0.0|     20.0|           0.0|                0.0|       null|\n",
      "|2017-01-01|        AA|                6|   OGG| DFW|        1855|  1855.0|      0.0|    16.0|    1911.0|    631.0|   11.0|         600|   642.0|     42.0|      0.0|             null|     0.0|           425.0|              467.0|   440.0|  3711.0|          0.0|          0.0|     42.0|           0.0|                0.0|       null|\n",
      "+----------+----------+-----------------+------+----+------------+--------+---------+--------+----------+---------+-------+------------+--------+---------+---------+-----------------+--------+----------------+-------------------+--------+--------+-------------+-------------+---------+--------------+-------------------+-----------+\n",
      "only showing top 5 rows\n",
      "\n"
     ]
    }
   ],
   "source": [
    "\n",
    "dataset.show(5)"
   ]
  },
  {
   "cell_type": "code",
   "execution_count": 9,
   "metadata": {},
   "outputs": [
    {
     "data": {
      "text/plain": [
       "[('FL_DATE', 'string'),\n",
       " ('OP_CARRIER', 'string'),\n",
       " ('OP_CARRIER_FL_NUM', 'int'),\n",
       " ('ORIGIN', 'string'),\n",
       " ('DEST', 'string'),\n",
       " ('CRS_DEP_TIME', 'int'),\n",
       " ('DEP_TIME', 'double'),\n",
       " ('DEP_DELAY', 'double'),\n",
       " ('TAXI_OUT', 'double'),\n",
       " ('WHEELS_OFF', 'double'),\n",
       " ('WHEELS_ON', 'double'),\n",
       " ('TAXI_IN', 'double'),\n",
       " ('CRS_ARR_TIME', 'int'),\n",
       " ('ARR_TIME', 'double'),\n",
       " ('ARR_DELAY', 'double'),\n",
       " ('CANCELLED', 'double'),\n",
       " ('CANCELLATION_CODE', 'string'),\n",
       " ('DIVERTED', 'double'),\n",
       " ('CRS_ELAPSED_TIME', 'double'),\n",
       " ('ACTUAL_ELAPSED_TIME', 'double'),\n",
       " ('AIR_TIME', 'double'),\n",
       " ('DISTANCE', 'double'),\n",
       " ('CARRIER_DELAY', 'double'),\n",
       " ('WEATHER_DELAY', 'double'),\n",
       " ('NAS_DELAY', 'double'),\n",
       " ('SECURITY_DELAY', 'double'),\n",
       " ('LATE_AIRCRAFT_DELAY', 'double'),\n",
       " ('Unnamed: 27', 'string')]"
      ]
     },
     "execution_count": 9,
     "metadata": {},
     "output_type": "execute_result"
    }
   ],
   "source": [
    "#drop column that all have NA values\n",
    "dataset.dtypes\n"
   ]
  },
  {
   "cell_type": "code",
   "execution_count": 10,
   "metadata": {},
   "outputs": [],
   "source": [
    "dataset =dataset.drop('Unnamed: 27')"
   ]
  },
  {
   "cell_type": "code",
   "execution_count": 11,
   "metadata": {},
   "outputs": [
    {
     "name": "stdout",
     "output_type": "stream",
     "text": [
      "root\n",
      " |-- FL_DATE: string (nullable = true)\n",
      " |-- OP_CARRIER: string (nullable = true)\n",
      " |-- OP_CARRIER_FL_NUM: integer (nullable = true)\n",
      " |-- ORIGIN: string (nullable = true)\n",
      " |-- DEST: string (nullable = true)\n",
      " |-- CRS_DEP_TIME: integer (nullable = true)\n",
      " |-- DEP_TIME: double (nullable = true)\n",
      " |-- DEP_DELAY: double (nullable = true)\n",
      " |-- TAXI_OUT: double (nullable = true)\n",
      " |-- WHEELS_OFF: double (nullable = true)\n",
      " |-- WHEELS_ON: double (nullable = true)\n",
      " |-- TAXI_IN: double (nullable = true)\n",
      " |-- CRS_ARR_TIME: integer (nullable = true)\n",
      " |-- ARR_TIME: double (nullable = true)\n",
      " |-- ARR_DELAY: double (nullable = true)\n",
      " |-- CANCELLED: double (nullable = true)\n",
      " |-- CANCELLATION_CODE: string (nullable = true)\n",
      " |-- DIVERTED: double (nullable = true)\n",
      " |-- CRS_ELAPSED_TIME: double (nullable = true)\n",
      " |-- ACTUAL_ELAPSED_TIME: double (nullable = true)\n",
      " |-- AIR_TIME: double (nullable = true)\n",
      " |-- DISTANCE: double (nullable = true)\n",
      " |-- CARRIER_DELAY: double (nullable = true)\n",
      " |-- WEATHER_DELAY: double (nullable = true)\n",
      " |-- NAS_DELAY: double (nullable = true)\n",
      " |-- SECURITY_DELAY: double (nullable = true)\n",
      " |-- LATE_AIRCRAFT_DELAY: double (nullable = true)\n",
      "\n"
     ]
    }
   ],
   "source": [
    "dataset.printSchema()"
   ]
  },
  {
   "cell_type": "code",
   "execution_count": 12,
   "metadata": {},
   "outputs": [
    {
     "name": "stdout",
     "output_type": "stream",
     "text": [
      "+----------+----------+-----------------+------+----+------------+--------+---------+--------+----------+---------+-------+------------+--------+---------+---------+-----------------+--------+----------------+-------------------+--------+--------+-------------+-------------+---------+--------------+-------------------+\n",
      "|   FL_DATE|OP_CARRIER|OP_CARRIER_FL_NUM|ORIGIN|DEST|CRS_DEP_TIME|DEP_TIME|DEP_DELAY|TAXI_OUT|WHEELS_OFF|WHEELS_ON|TAXI_IN|CRS_ARR_TIME|ARR_TIME|ARR_DELAY|CANCELLED|CANCELLATION_CODE|DIVERTED|CRS_ELAPSED_TIME|ACTUAL_ELAPSED_TIME|AIR_TIME|DISTANCE|CARRIER_DELAY|WEATHER_DELAY|NAS_DELAY|SECURITY_DELAY|LATE_AIRCRAFT_DELAY|\n",
      "+----------+----------+-----------------+------+----+------------+--------+---------+--------+----------+---------+-------+------------+--------+---------+---------+-----------------+--------+----------------+-------------------+--------+--------+-------------+-------------+---------+--------------+-------------------+\n",
      "|2017-01-01|        AA|                1|   JFK| LAX|         800|   831.0|     31.0|    25.0|     856.0|   1143.0|   26.0|        1142|  1209.0|     27.0|      0.0|             null|     0.0|           402.0|              398.0|   347.0|  2475.0|         27.0|          0.0|      0.0|           0.0|                0.0|\n",
      "+----------+----------+-----------------+------+----+------------+--------+---------+--------+----------+---------+-------+------------+--------+---------+---------+-----------------+--------+----------------+-------------------+--------+--------+-------------+-------------+---------+--------------+-------------------+\n",
      "only showing top 1 row\n",
      "\n"
     ]
    }
   ],
   "source": [
    "dataset.show(1)\n"
   ]
  },
  {
   "cell_type": "code",
   "execution_count": 13,
   "metadata": {},
   "outputs": [],
   "source": [
    "t =dataset.count()"
   ]
  },
  {
   "cell_type": "code",
   "execution_count": null,
   "metadata": {},
   "outputs": [],
   "source": [
    "#print number of null values for each column\n",
    "amount_missing_df = dataset.select([count(when(col(c).isNull(), c)).alias(c) for c in dataset.columns]).show()"
   ]
  },
  {
   "cell_type": "code",
   "execution_count": 14,
   "metadata": {},
   "outputs": [],
   "source": [
    "# amount_missing_df.head()"
   ]
  },
  {
   "cell_type": "code",
   "execution_count": 15,
   "metadata": {},
   "outputs": [],
   "source": [
    "delays = [\"CARRIER_DELAY\", \"WEATHER_DELAY\", \"NAS_DELAY\", \"SECURITY_DELAY\" ,\"LATE_AIRCRAFT_DELAY\"]"
   ]
  },
  {
   "cell_type": "code",
   "execution_count": null,
   "metadata": {},
   "outputs": [],
   "source": [
    "# ARR_Delay is the total delay on arrival in minutes , only 1.8% is missing \n",
    "# on the other hand ,  [CARRIER_DELAY WEATHER_DELAY NAS_DELAY SECURITY_DELAY LATE_AIRCRAFT_DELAY] values have 81.5% NA \n",
    "# removing all records with NA values will severely shrink dataset \n",
    "# before we remove all these records , we can try to fill NA values of delay features\n",
    "# we compare number of zeros of a row with total number of records without NA\n",
    "for delay in delays:\n",
    "    print(\"type of delay :\",delay)\n",
    "    print(\"# of zeros :\",dataset.filter(col(delay)==0).count())\n",
    "    print(\"# of zeros percent :\",dataset.filter(col(delay)==0).count()/((18.5/100)*t))\n",
    "    print(\"mean : \",dataset.select(mean(delay)).collect())\n",
    "    print(\"--------\")"
   ]
  },
  {
   "cell_type": "code",
   "execution_count": 16,
   "metadata": {},
   "outputs": [],
   "source": [
    "# we can deduce that number of zeros is dominant in these features , so filling NAs with mean,ffill,backfill,mode or interpolation are not sensible (outliers will increase mean) \n",
    "# best options are zero filling or median(which will probably be 0)\n",
    "dataset = dataset.fillna(0,subset=delays)"
   ]
  },
  {
   "cell_type": "code",
   "execution_count": 17,
   "metadata": {},
   "outputs": [
    {
     "name": "stdout",
     "output_type": "stream",
     "text": [
      "+-------------+-------------+---------+--------------+-------------------+\n",
      "|CARRIER_DELAY|WEATHER_DELAY|NAS_DELAY|SECURITY_DELAY|LATE_AIRCRAFT_DELAY|\n",
      "+-------------+-------------+---------+--------------+-------------------+\n",
      "|            0|            0|        0|             0|                  0|\n",
      "+-------------+-------------+---------+--------------+-------------------+\n",
      "\n"
     ]
    }
   ],
   "source": [
    "dataset.select([count(when(col(c).isNull(), c)).alias(c) for c in delays]).show()"
   ]
  },
  {
   "cell_type": "code",
   "execution_count": 18,
   "metadata": {},
   "outputs": [
    {
     "name": "stdout",
     "output_type": "stream",
     "text": [
      "+----------+----------+-----------------+------+----+------------+--------+---------+--------+----------+---------+-------+------------+--------+---------+---------+-----------------+--------+----------------+-------------------+--------+--------+-------------+-------------+---------+--------------+-------------------+\n",
      "|   FL_DATE|OP_CARRIER|OP_CARRIER_FL_NUM|ORIGIN|DEST|CRS_DEP_TIME|DEP_TIME|DEP_DELAY|TAXI_OUT|WHEELS_OFF|WHEELS_ON|TAXI_IN|CRS_ARR_TIME|ARR_TIME|ARR_DELAY|CANCELLED|CANCELLATION_CODE|DIVERTED|CRS_ELAPSED_TIME|ACTUAL_ELAPSED_TIME|AIR_TIME|DISTANCE|CARRIER_DELAY|WEATHER_DELAY|NAS_DELAY|SECURITY_DELAY|LATE_AIRCRAFT_DELAY|\n",
      "+----------+----------+-----------------+------+----+------------+--------+---------+--------+----------+---------+-------+------------+--------+---------+---------+-----------------+--------+----------------+-------------------+--------+--------+-------------+-------------+---------+--------------+-------------------+\n",
      "|2017-01-01|        AA|                1|   JFK| LAX|         800|   831.0|     31.0|    25.0|     856.0|   1143.0|   26.0|        1142|  1209.0|     27.0|      0.0|             null|     0.0|           402.0|              398.0|   347.0|  2475.0|         27.0|          0.0|      0.0|           0.0|                0.0|\n",
      "+----------+----------+-----------------+------+----+------------+--------+---------+--------+----------+---------+-------+------------+--------+---------+---------+-----------------+--------+----------------+-------------------+--------+--------+-------------+-------------+---------+--------------+-------------------+\n",
      "only showing top 1 row\n",
      "\n"
     ]
    }
   ],
   "source": [
    "dataset.show(1)"
   ]
  },
  {
   "cell_type": "code",
   "execution_count": 19,
   "metadata": {},
   "outputs": [],
   "source": [
    "# drop cancellation code - 98% missing and irrelevant\n",
    "dataset =dataset.drop('CANCELLATION_CODE')"
   ]
  },
  {
   "cell_type": "code",
   "execution_count": 20,
   "metadata": {},
   "outputs": [],
   "source": [
    "#drop NAs\n",
    "dataset_visualization = dataset.dropna() "
   ]
  },
  {
   "cell_type": "code",
   "execution_count": null,
   "metadata": {},
   "outputs": [],
   "source": [
    "#removed around 1.8% of data only\n",
    "print(\"shape :\",dataset_visualization.count(), len(dataset_visualization.columns))"
   ]
  },
  {
   "cell_type": "code",
   "execution_count": null,
   "metadata": {},
   "outputs": [],
   "source": [
    "dataset_visualization.select(\"OP_CARRIER\").distinct().show()"
   ]
  },
  {
   "cell_type": "code",
   "execution_count": 21,
   "metadata": {},
   "outputs": [
    {
     "name": "stderr",
     "output_type": "stream",
     "text": [
      "c:\\Users\\myass\\anaconda3\\lib\\site-packages\\pyspark\\sql\\dataframe.py:2233: UserWarning: to_replace is a dict and value is not None. value will be ignored.\n",
      "  warnings.warn(\"to_replace is a dict and value is not None. value will be ignored.\")\n"
     ]
    }
   ],
   "source": [
    "#after inspection of op_carriers feature levels , we figured actual carrier names \n",
    "carriers_dict = {\n",
    "    'UA':'United Airlines',\n",
    "    'AS':'Alaska Airlines',\n",
    "    '9E':'Endeavor Air',\n",
    "    'B6':'JetBlue Airways',\n",
    "    'EV':'ExpressJet',\n",
    "    'F9':'Frontier Airlines',\n",
    "    'G4':'Allegiant Air',\n",
    "    'HA':'Hawaiian Airlines',\n",
    "    'MQ':'Envoy Air',\n",
    "    'NK':'Spirit Airlines',\n",
    "    'OH':'PSA Airlines',\n",
    "    'OO':'SkyWest Airlines',\n",
    "    'VX':'Virgin America',\n",
    "    'WN':'Southwest Airlines',\n",
    "    'YV':'Mesa Airline',\n",
    "    'YX':'Republic Airways',\n",
    "    'AA':'American Airlines',\n",
    "    'DL':'Delta Airlines'\n",
    "}\n",
    "dataset_visualization = dataset_visualization.replace(carriers_dict,1,'OP_CARRIER')\n"
   ]
  },
  {
   "cell_type": "code",
   "execution_count": null,
   "metadata": {},
   "outputs": [],
   "source": [
    "dataset_visualization.select(\"OP_CARRIER\").distinct().show()"
   ]
  },
  {
   "cell_type": "code",
   "execution_count": 22,
   "metadata": {},
   "outputs": [
    {
     "name": "stdout",
     "output_type": "stream",
     "text": [
      "+----------+-----------------+-----------------+------+----+------------+--------+---------+--------+----------+---------+-------+------------+--------+---------+---------+--------+----------------+-------------------+--------+--------+-------------+-------------+---------+--------------+-------------------+----+-----+---+\n",
      "|   FL_DATE|       OP_CARRIER|OP_CARRIER_FL_NUM|ORIGIN|DEST|CRS_DEP_TIME|DEP_TIME|DEP_DELAY|TAXI_OUT|WHEELS_OFF|WHEELS_ON|TAXI_IN|CRS_ARR_TIME|ARR_TIME|ARR_DELAY|CANCELLED|DIVERTED|CRS_ELAPSED_TIME|ACTUAL_ELAPSED_TIME|AIR_TIME|DISTANCE|CARRIER_DELAY|WEATHER_DELAY|NAS_DELAY|SECURITY_DELAY|LATE_AIRCRAFT_DELAY|year|month|day|\n",
      "+----------+-----------------+-----------------+------+----+------------+--------+---------+--------+----------+---------+-------+------------+--------+---------+---------+--------+----------------+-------------------+--------+--------+-------------+-------------+---------+--------------+-------------------+----+-----+---+\n",
      "|2017-01-01|American Airlines|                1|   JFK| LAX|         800|   831.0|     31.0|    25.0|     856.0|   1143.0|   26.0|        1142|  1209.0|     27.0|      0.0|     0.0|           402.0|              398.0|   347.0|  2475.0|         27.0|          0.0|      0.0|           0.0|                0.0|2017|    1|  1|\n",
      "|2017-01-01|American Airlines|                2|   LAX| JFK|         900|   934.0|     34.0|    34.0|    1008.0|   1757.0|   12.0|        1727|  1809.0|     42.0|      0.0|     0.0|           327.0|              335.0|   289.0|  2475.0|         34.0|          0.0|      8.0|           0.0|                0.0|2017|    1|  1|\n",
      "|2017-01-01|American Airlines|                4|   LAX| JFK|        1130|  1221.0|     51.0|    20.0|    1241.0|   2025.0|   15.0|        1958|  2040.0|     42.0|      0.0|     0.0|           328.0|              319.0|   284.0|  2475.0|          7.0|          0.0|      0.0|           0.0|               35.0|2017|    1|  1|\n",
      "|2017-01-01|American Airlines|                5|   DFW| HNL|        1135|  1252.0|     77.0|    19.0|    1311.0|   1744.0|    5.0|        1612|  1749.0|     97.0|      0.0|     0.0|           517.0|              537.0|   513.0|  3784.0|         77.0|          0.0|     20.0|           0.0|                0.0|2017|    1|  1|\n",
      "|2017-01-01|American Airlines|                6|   OGG| DFW|        1855|  1855.0|      0.0|    16.0|    1911.0|    631.0|   11.0|         600|   642.0|     42.0|      0.0|     0.0|           425.0|              467.0|   440.0|  3711.0|          0.0|          0.0|     42.0|           0.0|                0.0|2017|    1|  1|\n",
      "|2017-01-01|American Airlines|                7|   DFW| OGG|         940|  1619.0|    399.0|    12.0|    1631.0|   2031.0|    6.0|        1403|  2037.0|    394.0|      0.0|     0.0|           503.0|              498.0|   480.0|  3711.0|        394.0|          0.0|      0.0|           0.0|                0.0|2017|    1|  1|\n",
      "|2017-01-01|American Airlines|                8|   HNL| DFW|        1838|  1903.0|     25.0|    19.0|    1922.0|    636.0|   12.0|         550|   648.0|     58.0|      0.0|     0.0|           432.0|              465.0|   434.0|  3784.0|         25.0|          0.0|     33.0|           0.0|                0.0|2017|    1|  1|\n",
      "|2017-01-01|American Airlines|                9|   JFK| SFO|         700|   656.0|     -4.0|    22.0|     718.0|   1020.0|    3.0|        1045|  1023.0|    -22.0|      0.0|     0.0|           405.0|              387.0|   362.0|  2586.0|          0.0|          0.0|      0.0|           0.0|                0.0|2017|    1|  1|\n",
      "|2017-01-01|American Airlines|               10|   LAX| JFK|        2100|  2100.0|      0.0|    15.0|    2115.0|    447.0|   10.0|         527|   457.0|    -30.0|      0.0|     0.0|           327.0|              297.0|   272.0|  2475.0|          0.0|          0.0|      0.0|           0.0|                0.0|2017|    1|  1|\n",
      "|2017-01-01|American Airlines|               12|   SFO| JFK|        1135|  1130.0|     -5.0|    27.0|    1157.0|   1937.0|   17.0|        2018|  1954.0|    -24.0|      0.0|     0.0|           343.0|              324.0|   280.0|  2586.0|          0.0|          0.0|      0.0|           0.0|                0.0|2017|    1|  1|\n",
      "|2017-01-01|American Airlines|               14|   OGG| LAX|        2313|  2350.0|     37.0|     9.0|    2359.0|    628.0|   11.0|         630|   639.0|      9.0|      0.0|     0.0|           317.0|              289.0|   269.0|  2486.0|          0.0|          0.0|      0.0|           0.0|                0.0|2017|    1|  1|\n",
      "|2017-01-01|American Airlines|               15|   JFK| SFO|         825|   824.0|     -1.0|    19.0|     843.0|   1149.0|    3.0|        1212|  1152.0|    -20.0|      0.0|     0.0|           407.0|              388.0|   366.0|  2586.0|          0.0|          0.0|      0.0|           0.0|                0.0|2017|    1|  1|\n",
      "|2017-01-01|American Airlines|               16|   SFO| JFK|        1305|  1259.0|     -6.0|    14.0|    1313.0|   2059.0|    8.0|        2137|  2107.0|    -30.0|      0.0|     0.0|           332.0|              308.0|   286.0|  2586.0|          0.0|          0.0|      0.0|           0.0|                0.0|2017|    1|  1|\n",
      "|2017-01-01|American Airlines|               19|   JFK| LAX|         900|   856.0|     -4.0|    22.0|     918.0|   1204.0|   29.0|        1246|  1233.0|    -13.0|      0.0|     0.0|           406.0|              397.0|   346.0|  2475.0|          0.0|          0.0|      0.0|           0.0|                0.0|2017|    1|  1|\n",
      "|2017-01-01|American Airlines|               20|   SFO| JFK|        1530|  1525.0|     -5.0|    16.0|    1541.0|   2319.0|   14.0|        2357|  2333.0|    -24.0|      0.0|     0.0|           327.0|              308.0|   278.0|  2586.0|          0.0|          0.0|      0.0|           0.0|                0.0|2017|    1|  1|\n",
      "|2017-01-01|American Airlines|               21|   JFK| LAX|        1900|  1922.0|     22.0|    20.0|    1942.0|   2241.0|   37.0|        2247|  2318.0|     31.0|      0.0|     0.0|           407.0|              416.0|   359.0|  2475.0|         22.0|          0.0|      9.0|           0.0|                0.0|2017|    1|  1|\n",
      "|2017-01-01|American Airlines|               22|   LAX| JFK|        1340|  1346.0|      6.0|    14.0|    1400.0|   2149.0|   14.0|        2208|  2203.0|     -5.0|      0.0|     0.0|           328.0|              317.0|   289.0|  2475.0|          0.0|          0.0|      0.0|           0.0|                0.0|2017|    1|  1|\n",
      "|2017-01-01|American Airlines|               23|   JFK| LAX|        2215|  2225.0|     10.0|    23.0|    2248.0|    154.0|    9.0|         157|   203.0|      6.0|      0.0|     0.0|           402.0|              398.0|   366.0|  2475.0|          0.0|          0.0|      0.0|           0.0|                0.0|2017|    1|  1|\n",
      "|2017-01-01|American Airlines|               25|   ORD| LAS|        1705|  1707.0|      2.0|    13.0|    1720.0|   1858.0|   17.0|        1907|  1915.0|      8.0|      0.0|     0.0|           242.0|              248.0|   218.0|  1514.0|          0.0|          0.0|      0.0|           0.0|                0.0|2017|    1|  1|\n",
      "|2017-01-01|American Airlines|               28|   LAX| JFK|        2200|  2202.0|      2.0|    22.0|    2224.0|    557.0|   55.0|         627|   652.0|     25.0|      0.0|     0.0|           327.0|              350.0|   273.0|  2475.0|          2.0|          0.0|     23.0|           0.0|                0.0|2017|    1|  1|\n",
      "+----------+-----------------+-----------------+------+----+------------+--------+---------+--------+----------+---------+-------+------------+--------+---------+---------+--------+----------------+-------------------+--------+--------+-------------+-------------+---------+--------------+-------------------+----+-----+---+\n",
      "only showing top 20 rows\n",
      "\n"
     ]
    }
   ],
   "source": [
    "dataset_visualization = dataset_visualization.withColumn('year',year(dataset_visualization.FL_DATE))\n",
    "dataset_visualization = dataset_visualization.withColumn('month',month(dataset_visualization.FL_DATE))\n",
    "dataset_visualization = dataset_visualization.withColumn('day',dayofmonth(dataset_visualization.FL_DATE))\n",
    "dataset_visualization.show()"
   ]
  },
  {
   "cell_type": "code",
   "execution_count": 23,
   "metadata": {},
   "outputs": [
    {
     "name": "stdout",
     "output_type": "stream",
     "text": [
      "root\n",
      " |-- FL_DATE: string (nullable = true)\n",
      " |-- OP_CARRIER: string (nullable = true)\n",
      " |-- OP_CARRIER_FL_NUM: integer (nullable = true)\n",
      " |-- ORIGIN: string (nullable = true)\n",
      " |-- DEST: string (nullable = true)\n",
      " |-- CRS_DEP_TIME: integer (nullable = true)\n",
      " |-- DEP_TIME: double (nullable = true)\n",
      " |-- DEP_DELAY: double (nullable = true)\n",
      " |-- TAXI_OUT: double (nullable = true)\n",
      " |-- WHEELS_OFF: double (nullable = true)\n",
      " |-- WHEELS_ON: double (nullable = true)\n",
      " |-- TAXI_IN: double (nullable = true)\n",
      " |-- CRS_ARR_TIME: integer (nullable = true)\n",
      " |-- ARR_TIME: double (nullable = true)\n",
      " |-- ARR_DELAY: double (nullable = true)\n",
      " |-- CANCELLED: double (nullable = true)\n",
      " |-- DIVERTED: double (nullable = true)\n",
      " |-- CRS_ELAPSED_TIME: double (nullable = true)\n",
      " |-- ACTUAL_ELAPSED_TIME: double (nullable = true)\n",
      " |-- AIR_TIME: double (nullable = true)\n",
      " |-- DISTANCE: double (nullable = true)\n",
      " |-- CARRIER_DELAY: double (nullable = false)\n",
      " |-- WEATHER_DELAY: double (nullable = false)\n",
      " |-- NAS_DELAY: double (nullable = false)\n",
      " |-- SECURITY_DELAY: double (nullable = false)\n",
      " |-- LATE_AIRCRAFT_DELAY: double (nullable = false)\n",
      " |-- year: integer (nullable = true)\n",
      " |-- month: integer (nullable = true)\n",
      " |-- day: integer (nullable = true)\n",
      "\n"
     ]
    }
   ],
   "source": [
    "dataset_visualization.printSchema()"
   ]
  },
  {
   "cell_type": "code",
   "execution_count": 24,
   "metadata": {},
   "outputs": [
    {
     "name": "stdout",
     "output_type": "stream",
     "text": [
      "+----------+-----------------+-----------------+------+----+------------+--------+---------+--------+----------+---------+-------+------------+--------+---------+---------+--------+----------------+-------------------+--------+--------+-------------+-------------+---------+--------------+-------------------+----+-----+---+\n",
      "|   FL_DATE|       OP_CARRIER|OP_CARRIER_FL_NUM|ORIGIN|DEST|CRS_DEP_TIME|DEP_TIME|DEP_DELAY|TAXI_OUT|WHEELS_OFF|WHEELS_ON|TAXI_IN|CRS_ARR_TIME|ARR_TIME|ARR_DELAY|CANCELLED|DIVERTED|CRS_ELAPSED_TIME|ACTUAL_ELAPSED_TIME|AIR_TIME|DISTANCE|CARRIER_DELAY|WEATHER_DELAY|NAS_DELAY|SECURITY_DELAY|LATE_AIRCRAFT_DELAY|year|month|day|\n",
      "+----------+-----------------+-----------------+------+----+------------+--------+---------+--------+----------+---------+-------+------------+--------+---------+---------+--------+----------------+-------------------+--------+--------+-------------+-------------+---------+--------------+-------------------+----+-----+---+\n",
      "|2017-01-01|American Airlines|                1|   JFK| LAX|         800|   831.0|     31.0|    25.0|     856.0|   1143.0|   26.0|        1142|  1209.0|     27.0|      0.0|     0.0|           402.0|              398.0|   347.0|  2475.0|         27.0|          0.0|      0.0|           0.0|                0.0|2017|    1|  1|\n",
      "+----------+-----------------+-----------------+------+----+------------+--------+---------+--------+----------+---------+-------+------------+--------+---------+---------+--------+----------------+-------------------+--------+--------+-------------+-------------+---------+--------------+-------------------+----+-----+---+\n",
      "only showing top 1 row\n",
      "\n"
     ]
    }
   ],
   "source": [
    "dataset_visualization.show(1)"
   ]
  },
  {
   "cell_type": "code",
   "execution_count": 25,
   "metadata": {},
   "outputs": [],
   "source": [
    "df_vis = dataset_visualization"
   ]
  },
  {
   "cell_type": "code",
   "execution_count": null,
   "metadata": {},
   "outputs": [],
   "source": [
    "#write the dataset for visualization using parquet dataformat ,fast and low memory usage\n",
    "df_vis = df_vis.toPandas()"
   ]
  },
  {
   "cell_type": "code",
   "execution_count": null,
   "metadata": {},
   "outputs": [],
   "source": [
    "df_vis.to_parquet(\"./Dataset/dataset_visualization_spark.parquet\")"
   ]
  },
  {
   "cell_type": "markdown",
   "metadata": {},
   "source": [
    "## After preparing a dataset for visualization , prepare the data for ML "
   ]
  },
  {
   "cell_type": "code",
   "execution_count": null,
   "metadata": {},
   "outputs": [],
   "source": [
    "#drop flight number - not needed\n",
    "dataset_visualization.drop('OP_CARRIER_FL_NUM', inplace=True, axis=1)\n",
    "\n",
    "#drop flight date - irrelevant\n",
    "dataset_visualization.drop('FL_DATE', inplace=True, axis=1)\n",
    "\n",
    "# drop diverted - feature irrelevant to problem \n",
    "dataset_visualization.drop('DIVERTED', inplace=True, axis=1)"
   ]
  },
  {
   "cell_type": "code",
   "execution_count": null,
   "metadata": {},
   "outputs": [],
   "source": [
    "dataset_visualization.shape"
   ]
  },
  {
   "cell_type": "code",
   "execution_count": null,
   "metadata": {},
   "outputs": [],
   "source": [
    "#remove all rows having NA values\n",
    "dataset_ML = dataset_visualization.dropna()"
   ]
  },
  {
   "cell_type": "code",
   "execution_count": null,
   "metadata": {},
   "outputs": [],
   "source": [
    "dataset_ML.shape"
   ]
  },
  {
   "cell_type": "code",
   "execution_count": null,
   "metadata": {},
   "outputs": [],
   "source": [
    "display(dataset_ML.head(n=10))"
   ]
  },
  {
   "cell_type": "code",
   "execution_count": null,
   "metadata": {},
   "outputs": [],
   "source": [
    "#print insights on number of origin and dest \n",
    "categorical = [\"ORIGIN\",\"DEST\"] \n",
    "print(\"Number of departure locations : \",len(dataset_ML[categorical[0]].unique()))\n",
    "print(\"Number of destination locations : \",len(dataset_ML[categorical[1]].unique()))"
   ]
  },
  {
   "cell_type": "markdown",
   "metadata": {},
   "source": [
    "### Looking at the ORIGIN and DEST features , they have huge number of unique values , this means that :\n",
    "- using hot encoding for converting to numerical features will yield huge number of features which will lead to the curse of dimensionality \n",
    "- using label encoding will yield to only one feature , but the feature values will have great std deviation and labels will have different priority\n",
    "- so it would be better if we drop both\n",
    "\n",
    "### for the op_carrier :\n",
    "- different carriers may differ in plane services but irrelevant to our problem so it will be removed\n",
    "\n",
    "### FL_Date is only used for visualization so it will be removed , same for month day and year features\n",
    "- we could have made use of month feature because of its relation to a season in a year , but the data is only based on domestic flights of the US so it will biased to seasonality in the US only , model needs to generalize regardless"
   ]
  },
  {
   "cell_type": "code",
   "execution_count": null,
   "metadata": {},
   "outputs": [],
   "source": [
    "dataset_ML=dataset_ML.drop('OP_CARRIER', axis=1)"
   ]
  },
  {
   "cell_type": "code",
   "execution_count": null,
   "metadata": {},
   "outputs": [],
   "source": [
    "dataset_ML=dataset_ML.drop('ORIGIN',axis=1)"
   ]
  },
  {
   "cell_type": "code",
   "execution_count": null,
   "metadata": {},
   "outputs": [],
   "source": [
    "dataset_ML=dataset_ML.drop('DEST',axis=1)"
   ]
  },
  {
   "cell_type": "code",
   "execution_count": null,
   "metadata": {},
   "outputs": [],
   "source": [
    "dataset_ML=dataset_ML.drop('Month',axis=1)"
   ]
  },
  {
   "cell_type": "code",
   "execution_count": null,
   "metadata": {},
   "outputs": [],
   "source": [
    "dataset_ML=dataset_ML.drop('Day',axis=1)"
   ]
  },
  {
   "cell_type": "code",
   "execution_count": null,
   "metadata": {},
   "outputs": [],
   "source": [
    "dataset_ML=dataset_ML.drop('Year',axis=1)"
   ]
  },
  {
   "cell_type": "code",
   "execution_count": null,
   "metadata": {},
   "outputs": [],
   "source": [
    "display(dataset_ML.head(n=5))"
   ]
  },
  {
   "cell_type": "code",
   "execution_count": null,
   "metadata": {},
   "outputs": [],
   "source": [
    "#write the dataset for visualization using parquet dataformat , fast and low memory usage\n",
    "dataset_ML.to_parquet(\"./Dataset/dataset_ML.parquet\",index=False)"
   ]
  },
  {
   "cell_type": "code",
   "execution_count": null,
   "metadata": {},
   "outputs": [],
   "source": []
  }
 ],
 "metadata": {
  "interpreter": {
   "hash": "edfabf2557a0868ea416b237e6ea760256f23aebf1dc13eb828c839c8629c6ab"
  },
  "kernelspec": {
   "display_name": "Python 3.9.7 ('base')",
   "language": "python",
   "name": "python3"
  },
  "language_info": {
   "codemirror_mode": {
    "name": "ipython",
    "version": 3
   },
   "file_extension": ".py",
   "mimetype": "text/x-python",
   "name": "python",
   "nbconvert_exporter": "python",
   "pygments_lexer": "ipython3",
   "version": "3.9.7"
  },
  "orig_nbformat": 4
 },
 "nbformat": 4,
 "nbformat_minor": 2
}
