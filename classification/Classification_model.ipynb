{
 "cells": [
  {
   "cell_type": "code",
   "execution_count": 72,
   "metadata": {},
   "outputs": [],
   "source": [
    "from mpl_toolkits.mplot3d import Axes3D\n",
    "import matplotlib.pyplot as plt # plotting\n",
    "import numpy as np\n",
    "import pandas as pd\n",
    "from sklearn import preprocessing\n",
    "import seaborn as sns\n",
    "import warnings\n",
    "warnings.filterwarnings('ignore')\n",
    "from sklearn.model_selection import train_test_split\n",
    "from sklearn.metrics import accuracy_score, confusion_matrix, classification_report, plot_confusion_matrix\n",
    "from sklearn.tree import DecisionTreeClassifier\n",
    "from sklearn.ensemble import BaggingClassifier, RandomForestClassifier\n",
    "from sklearn.linear_model import LogisticRegression"
   ]
  },
  {
   "cell_type": "markdown",
   "metadata": {},
   "source": [
    "# ML Classification Model:"
   ]
  },
  {
   "cell_type": "code",
   "execution_count": 24,
   "metadata": {},
   "outputs": [
    {
     "name": "stdout",
     "output_type": "stream",
     "text": [
      "7071817\n"
     ]
    }
   ],
   "source": [
    "ml_dataset = pd.read_parquet('./Dataset/dataset_ML.parquet', engine='pyarrow')\n",
    "# ml_dataset = spark.read.parquet(\"./Dataset/dataset_ML.parquet\")\n",
    "count = ml_dataset.shape[0]\n",
    "print(count)"
   ]
  },
  {
   "cell_type": "code",
   "execution_count": 25,
   "metadata": {},
   "outputs": [
    {
     "data": {
      "text/plain": [
       "Index(['FL_DATE', 'CRS_DEP_TIME', 'DEP_TIME', 'DEP_DELAY', 'TAXI_OUT',\n",
       "       'WHEELS_OFF', 'WHEELS_ON', 'TAXI_IN', 'CRS_ARR_TIME', 'ARR_TIME',\n",
       "       'ARR_DELAY', 'CANCELLED', 'CRS_ELAPSED_TIME', 'ACTUAL_ELAPSED_TIME',\n",
       "       'AIR_TIME', 'DISTANCE', 'CARRIER_DELAY', 'WEATHER_DELAY', 'NAS_DELAY',\n",
       "       'SECURITY_DELAY', 'LATE_AIRCRAFT_DELAY'],\n",
       "      dtype='object')"
      ]
     },
     "execution_count": 25,
     "metadata": {},
     "output_type": "execute_result"
    }
   ],
   "source": [
    "ml_dataset.columns"
   ]
  },
  {
   "cell_type": "code",
   "execution_count": 26,
   "metadata": {},
   "outputs": [
    {
     "data": {
      "text/plain": [
       "0.0    7071817\n",
       "Name: CANCELLED, dtype: int64"
      ]
     },
     "execution_count": 26,
     "metadata": {},
     "output_type": "execute_result"
    }
   ],
   "source": [
    "ml_dataset.CANCELLED.value_counts()"
   ]
  },
  {
   "cell_type": "code",
   "execution_count": 28,
   "metadata": {},
   "outputs": [
    {
     "data": {
      "text/plain": [
       "2654069"
      ]
     },
     "execution_count": 28,
     "metadata": {},
     "output_type": "execute_result"
    }
   ],
   "source": [
    "sum(ml_dataset['ARR_DELAY'] >= 0)"
   ]
  },
  {
   "cell_type": "markdown",
   "metadata": {},
   "source": [
    "## Create our labels:\n",
    "```\n",
    "    CANCELLED       -           DELAY_STATUS\n",
    "          0                           0                      -> on time\n",
    "          0                           1                      -> delayed\n",
    "          1                           x                      -> cancelled\n",
    "```\n",
    "We will create a new column named `Status`:\n",
    "\n",
    "- 0  -> on time\n",
    "- 1  -> delayed\n",
    "- 2  -> cancelled\n",
    "    "
   ]
  },
  {
   "cell_type": "code",
   "execution_count": 29,
   "metadata": {},
   "outputs": [],
   "source": [
    "status = []\n",
    "for index in range(count):\n",
    "    if ml_dataset['CANCELLED'][index] == 1.0:\n",
    "        status.append(2)\n",
    "    else:\n",
    "        if ml_dataset['ARR_DELAY'][index] < 0:\n",
    "            status.append(0)\n",
    "        else:\n",
    "            status.append(1)\n",
    "            \n",
    "ml_dataset['Status'] = status\n"
   ]
  },
  {
   "cell_type": "code",
   "execution_count": 42,
   "metadata": {},
   "outputs": [],
   "source": [
    "# these won't be used in the model -> these conducts Y labels:\n",
    "ml_dataset.drop(['Status','ARR_DELAY','DEP_DELAY','CANCELLED' ], axis=1, inplace=True)"
   ]
  },
  {
   "cell_type": "code",
   "execution_count": 30,
   "metadata": {},
   "outputs": [
    {
     "data": {
      "text/html": [
       "<div>\n",
       "<style scoped>\n",
       "    .dataframe tbody tr th:only-of-type {\n",
       "        vertical-align: middle;\n",
       "    }\n",
       "\n",
       "    .dataframe tbody tr th {\n",
       "        vertical-align: top;\n",
       "    }\n",
       "\n",
       "    .dataframe thead th {\n",
       "        text-align: right;\n",
       "    }\n",
       "</style>\n",
       "<table border=\"1\" class=\"dataframe\">\n",
       "  <thead>\n",
       "    <tr style=\"text-align: right;\">\n",
       "      <th></th>\n",
       "      <th>FL_DATE</th>\n",
       "      <th>CRS_DEP_TIME</th>\n",
       "      <th>DEP_TIME</th>\n",
       "      <th>DEP_DELAY</th>\n",
       "      <th>TAXI_OUT</th>\n",
       "      <th>WHEELS_OFF</th>\n",
       "      <th>WHEELS_ON</th>\n",
       "      <th>TAXI_IN</th>\n",
       "      <th>CRS_ARR_TIME</th>\n",
       "      <th>ARR_TIME</th>\n",
       "      <th>...</th>\n",
       "      <th>CRS_ELAPSED_TIME</th>\n",
       "      <th>ACTUAL_ELAPSED_TIME</th>\n",
       "      <th>AIR_TIME</th>\n",
       "      <th>DISTANCE</th>\n",
       "      <th>CARRIER_DELAY</th>\n",
       "      <th>WEATHER_DELAY</th>\n",
       "      <th>NAS_DELAY</th>\n",
       "      <th>SECURITY_DELAY</th>\n",
       "      <th>LATE_AIRCRAFT_DELAY</th>\n",
       "      <th>Status</th>\n",
       "    </tr>\n",
       "  </thead>\n",
       "  <tbody>\n",
       "    <tr>\n",
       "      <th>0</th>\n",
       "      <td>2018-01-01</td>\n",
       "      <td>1517</td>\n",
       "      <td>1512.0</td>\n",
       "      <td>-5.0</td>\n",
       "      <td>15.0</td>\n",
       "      <td>1527.0</td>\n",
       "      <td>1712.0</td>\n",
       "      <td>10.0</td>\n",
       "      <td>1745</td>\n",
       "      <td>1722.0</td>\n",
       "      <td>...</td>\n",
       "      <td>268.0</td>\n",
       "      <td>250.0</td>\n",
       "      <td>225.0</td>\n",
       "      <td>1605.0</td>\n",
       "      <td>0.0</td>\n",
       "      <td>0.0</td>\n",
       "      <td>3.0</td>\n",
       "      <td>0.0</td>\n",
       "      <td>3.0</td>\n",
       "      <td>0</td>\n",
       "    </tr>\n",
       "    <tr>\n",
       "      <th>1</th>\n",
       "      <td>2018-01-01</td>\n",
       "      <td>1115</td>\n",
       "      <td>1107.0</td>\n",
       "      <td>-8.0</td>\n",
       "      <td>11.0</td>\n",
       "      <td>1118.0</td>\n",
       "      <td>1223.0</td>\n",
       "      <td>7.0</td>\n",
       "      <td>1254</td>\n",
       "      <td>1230.0</td>\n",
       "      <td>...</td>\n",
       "      <td>99.0</td>\n",
       "      <td>83.0</td>\n",
       "      <td>65.0</td>\n",
       "      <td>414.0</td>\n",
       "      <td>0.0</td>\n",
       "      <td>0.0</td>\n",
       "      <td>3.0</td>\n",
       "      <td>0.0</td>\n",
       "      <td>3.0</td>\n",
       "      <td>0</td>\n",
       "    </tr>\n",
       "    <tr>\n",
       "      <th>2</th>\n",
       "      <td>2018-01-01</td>\n",
       "      <td>1335</td>\n",
       "      <td>1330.0</td>\n",
       "      <td>-5.0</td>\n",
       "      <td>15.0</td>\n",
       "      <td>1345.0</td>\n",
       "      <td>1631.0</td>\n",
       "      <td>5.0</td>\n",
       "      <td>1649</td>\n",
       "      <td>1636.0</td>\n",
       "      <td>...</td>\n",
       "      <td>134.0</td>\n",
       "      <td>126.0</td>\n",
       "      <td>106.0</td>\n",
       "      <td>846.0</td>\n",
       "      <td>0.0</td>\n",
       "      <td>0.0</td>\n",
       "      <td>3.0</td>\n",
       "      <td>0.0</td>\n",
       "      <td>3.0</td>\n",
       "      <td>0</td>\n",
       "    </tr>\n",
       "    <tr>\n",
       "      <th>3</th>\n",
       "      <td>2018-01-01</td>\n",
       "      <td>1546</td>\n",
       "      <td>1552.0</td>\n",
       "      <td>6.0</td>\n",
       "      <td>19.0</td>\n",
       "      <td>1611.0</td>\n",
       "      <td>1748.0</td>\n",
       "      <td>6.0</td>\n",
       "      <td>1756</td>\n",
       "      <td>1754.0</td>\n",
       "      <td>...</td>\n",
       "      <td>190.0</td>\n",
       "      <td>182.0</td>\n",
       "      <td>157.0</td>\n",
       "      <td>1120.0</td>\n",
       "      <td>0.0</td>\n",
       "      <td>0.0</td>\n",
       "      <td>3.0</td>\n",
       "      <td>0.0</td>\n",
       "      <td>3.0</td>\n",
       "      <td>0</td>\n",
       "    </tr>\n",
       "    <tr>\n",
       "      <th>4</th>\n",
       "      <td>2018-01-01</td>\n",
       "      <td>630</td>\n",
       "      <td>650.0</td>\n",
       "      <td>20.0</td>\n",
       "      <td>13.0</td>\n",
       "      <td>703.0</td>\n",
       "      <td>926.0</td>\n",
       "      <td>10.0</td>\n",
       "      <td>922</td>\n",
       "      <td>936.0</td>\n",
       "      <td>...</td>\n",
       "      <td>112.0</td>\n",
       "      <td>106.0</td>\n",
       "      <td>83.0</td>\n",
       "      <td>723.0</td>\n",
       "      <td>0.0</td>\n",
       "      <td>0.0</td>\n",
       "      <td>3.0</td>\n",
       "      <td>0.0</td>\n",
       "      <td>3.0</td>\n",
       "      <td>1</td>\n",
       "    </tr>\n",
       "  </tbody>\n",
       "</table>\n",
       "<p>5 rows × 22 columns</p>\n",
       "</div>"
      ],
      "text/plain": [
       "     FL_DATE  CRS_DEP_TIME  DEP_TIME  DEP_DELAY  TAXI_OUT  WHEELS_OFF  \\\n",
       "0 2018-01-01          1517    1512.0       -5.0      15.0      1527.0   \n",
       "1 2018-01-01          1115    1107.0       -8.0      11.0      1118.0   \n",
       "2 2018-01-01          1335    1330.0       -5.0      15.0      1345.0   \n",
       "3 2018-01-01          1546    1552.0        6.0      19.0      1611.0   \n",
       "4 2018-01-01           630     650.0       20.0      13.0       703.0   \n",
       "\n",
       "   WHEELS_ON  TAXI_IN  CRS_ARR_TIME  ARR_TIME  ...  CRS_ELAPSED_TIME  \\\n",
       "0     1712.0     10.0          1745    1722.0  ...             268.0   \n",
       "1     1223.0      7.0          1254    1230.0  ...              99.0   \n",
       "2     1631.0      5.0          1649    1636.0  ...             134.0   \n",
       "3     1748.0      6.0          1756    1754.0  ...             190.0   \n",
       "4      926.0     10.0           922     936.0  ...             112.0   \n",
       "\n",
       "   ACTUAL_ELAPSED_TIME  AIR_TIME  DISTANCE  CARRIER_DELAY  WEATHER_DELAY  \\\n",
       "0                250.0     225.0    1605.0            0.0            0.0   \n",
       "1                 83.0      65.0     414.0            0.0            0.0   \n",
       "2                126.0     106.0     846.0            0.0            0.0   \n",
       "3                182.0     157.0    1120.0            0.0            0.0   \n",
       "4                106.0      83.0     723.0            0.0            0.0   \n",
       "\n",
       "   NAS_DELAY  SECURITY_DELAY  LATE_AIRCRAFT_DELAY  Status  \n",
       "0        3.0             0.0                  3.0       0  \n",
       "1        3.0             0.0                  3.0       0  \n",
       "2        3.0             0.0                  3.0       0  \n",
       "3        3.0             0.0                  3.0       0  \n",
       "4        3.0             0.0                  3.0       1  \n",
       "\n",
       "[5 rows x 22 columns]"
      ]
     },
     "execution_count": 30,
     "metadata": {},
     "output_type": "execute_result"
    }
   ],
   "source": [
    "ml_dataset.head(n=5)"
   ]
  },
  {
   "cell_type": "code",
   "execution_count": 31,
   "metadata": {},
   "outputs": [
    {
     "data": {
      "text/plain": [
       "0    0.624698\n",
       "1    0.375302\n",
       "Name: Status, dtype: float64"
      ]
     },
     "execution_count": 31,
     "metadata": {},
     "output_type": "execute_result"
    }
   ],
   "source": [
    "ml_dataset.Status.value_counts(normalize=True)"
   ]
  },
  {
   "cell_type": "code",
   "execution_count": 33,
   "metadata": {},
   "outputs": [
    {
     "name": "stdout",
     "output_type": "stream",
     "text": [
      "<class 'pandas.core.frame.DataFrame'>\n",
      "RangeIndex: 7071817 entries, 0 to 7071816\n",
      "Data columns (total 23 columns):\n",
      " #   Column               Dtype         \n",
      "---  ------               -----         \n",
      " 0   FL_DATE              datetime64[ns]\n",
      " 1   CRS_DEP_TIME         int64         \n",
      " 2   DEP_TIME             float64       \n",
      " 3   DEP_DELAY            float64       \n",
      " 4   TAXI_OUT             float64       \n",
      " 5   WHEELS_OFF           float64       \n",
      " 6   WHEELS_ON            float64       \n",
      " 7   TAXI_IN              float64       \n",
      " 8   CRS_ARR_TIME         int64         \n",
      " 9   ARR_TIME             float64       \n",
      " 10  ARR_DELAY            float64       \n",
      " 11  CANCELLED            float64       \n",
      " 12  CRS_ELAPSED_TIME     float64       \n",
      " 13  ACTUAL_ELAPSED_TIME  float64       \n",
      " 14  AIR_TIME             float64       \n",
      " 15  DISTANCE             float64       \n",
      " 16  CARRIER_DELAY        float64       \n",
      " 17  WEATHER_DELAY        float64       \n",
      " 18  NAS_DELAY            float64       \n",
      " 19  SECURITY_DELAY       float64       \n",
      " 20  LATE_AIRCRAFT_DELAY  float64       \n",
      " 21  Status               int64         \n",
      " 22  WEEKDAY              int64         \n",
      "dtypes: datetime64[ns](1), float64(18), int64(4)\n",
      "memory usage: 1.2 GB\n"
     ]
    }
   ],
   "source": [
    "ml_dataset.info()"
   ]
  },
  {
   "cell_type": "code",
   "execution_count": 35,
   "metadata": {},
   "outputs": [
    {
     "data": {
      "text/plain": [
       "FL_DATE                0\n",
       "CRS_DEP_TIME           0\n",
       "DEP_TIME               0\n",
       "DEP_DELAY              0\n",
       "TAXI_OUT               0\n",
       "WHEELS_OFF             0\n",
       "WHEELS_ON              0\n",
       "TAXI_IN                0\n",
       "CRS_ARR_TIME           0\n",
       "ARR_TIME               0\n",
       "ARR_DELAY              0\n",
       "CANCELLED              0\n",
       "CRS_ELAPSED_TIME       0\n",
       "ACTUAL_ELAPSED_TIME    0\n",
       "AIR_TIME               0\n",
       "DISTANCE               0\n",
       "CARRIER_DELAY          0\n",
       "WEATHER_DELAY          0\n",
       "NAS_DELAY              0\n",
       "SECURITY_DELAY         0\n",
       "LATE_AIRCRAFT_DELAY    0\n",
       "Status                 0\n",
       "WEEKDAY                0\n",
       "dtype: int64"
      ]
     },
     "execution_count": 35,
     "metadata": {},
     "output_type": "execute_result"
    }
   ],
   "source": [
    "ml_dataset.isnull().sum()"
   ]
  },
  {
   "cell_type": "code",
   "execution_count": 34,
   "metadata": {},
   "outputs": [
    {
     "data": {
      "text/plain": [
       "Index(['FL_DATE', 'CRS_DEP_TIME', 'DEP_TIME', 'DEP_DELAY', 'TAXI_OUT',\n",
       "       'WHEELS_OFF', 'WHEELS_ON', 'TAXI_IN', 'CRS_ARR_TIME', 'ARR_TIME',\n",
       "       'ARR_DELAY', 'CANCELLED', 'CRS_ELAPSED_TIME', 'ACTUAL_ELAPSED_TIME',\n",
       "       'AIR_TIME', 'DISTANCE', 'CARRIER_DELAY', 'WEATHER_DELAY', 'NAS_DELAY',\n",
       "       'SECURITY_DELAY', 'LATE_AIRCRAFT_DELAY', 'Status', 'WEEKDAY'],\n",
       "      dtype='object')"
      ]
     },
     "execution_count": 34,
     "metadata": {},
     "output_type": "execute_result"
    }
   ],
   "source": [
    "ml_dataset['FL_DATE'] = pd.to_datetime(ml_dataset['FL_DATE'])\n",
    "ml_dataset['WEEKDAY'] = ml_dataset['FL_DATE'].dt.dayofweek\n",
    "ml_dataset.columns"
   ]
  },
  {
   "cell_type": "code",
   "execution_count": 36,
   "metadata": {},
   "outputs": [
    {
     "data": {
      "text/plain": [
       "0    1065230\n",
       "4    1055156\n",
       "3    1047643\n",
       "2    1022760\n",
       "1    1010249\n",
       "6    1006194\n",
       "5     864585\n",
       "Name: WEEKDAY, dtype: int64"
      ]
     },
     "execution_count": 36,
     "metadata": {},
     "output_type": "execute_result"
    }
   ],
   "source": [
    "ml_dataset.WEEKDAY.value_counts()"
   ]
  },
  {
   "cell_type": "code",
   "execution_count": 39,
   "metadata": {},
   "outputs": [
    {
     "data": {
      "text/html": [
       "<div>\n",
       "<style scoped>\n",
       "    .dataframe tbody tr th:only-of-type {\n",
       "        vertical-align: middle;\n",
       "    }\n",
       "\n",
       "    .dataframe tbody tr th {\n",
       "        vertical-align: top;\n",
       "    }\n",
       "\n",
       "    .dataframe thead th {\n",
       "        text-align: right;\n",
       "    }\n",
       "</style>\n",
       "<table border=\"1\" class=\"dataframe\">\n",
       "  <thead>\n",
       "    <tr style=\"text-align: right;\">\n",
       "      <th></th>\n",
       "      <th>FL_DATE</th>\n",
       "      <th>CRS_DEP_TIME</th>\n",
       "      <th>DEP_TIME</th>\n",
       "      <th>DEP_DELAY</th>\n",
       "      <th>TAXI_OUT</th>\n",
       "      <th>WHEELS_OFF</th>\n",
       "      <th>WHEELS_ON</th>\n",
       "      <th>TAXI_IN</th>\n",
       "      <th>CRS_ARR_TIME</th>\n",
       "      <th>ARR_TIME</th>\n",
       "      <th>...</th>\n",
       "      <th>ACTUAL_ELAPSED_TIME</th>\n",
       "      <th>AIR_TIME</th>\n",
       "      <th>DISTANCE</th>\n",
       "      <th>CARRIER_DELAY</th>\n",
       "      <th>WEATHER_DELAY</th>\n",
       "      <th>NAS_DELAY</th>\n",
       "      <th>SECURITY_DELAY</th>\n",
       "      <th>LATE_AIRCRAFT_DELAY</th>\n",
       "      <th>Status</th>\n",
       "      <th>WEEKDAY</th>\n",
       "    </tr>\n",
       "  </thead>\n",
       "  <tbody>\n",
       "    <tr>\n",
       "      <th>0</th>\n",
       "      <td>2018-01-01</td>\n",
       "      <td>3</td>\n",
       "      <td>1512.0</td>\n",
       "      <td>-5.0</td>\n",
       "      <td>15.0</td>\n",
       "      <td>3</td>\n",
       "      <td>3</td>\n",
       "      <td>10.0</td>\n",
       "      <td>3</td>\n",
       "      <td>1722.0</td>\n",
       "      <td>...</td>\n",
       "      <td>250.0</td>\n",
       "      <td>225.0</td>\n",
       "      <td>1605.0</td>\n",
       "      <td>0.0</td>\n",
       "      <td>0.0</td>\n",
       "      <td>3.0</td>\n",
       "      <td>0.0</td>\n",
       "      <td>3.0</td>\n",
       "      <td>0</td>\n",
       "      <td>0</td>\n",
       "    </tr>\n",
       "    <tr>\n",
       "      <th>1</th>\n",
       "      <td>2018-01-01</td>\n",
       "      <td>2</td>\n",
       "      <td>1107.0</td>\n",
       "      <td>-8.0</td>\n",
       "      <td>11.0</td>\n",
       "      <td>2</td>\n",
       "      <td>3</td>\n",
       "      <td>7.0</td>\n",
       "      <td>3</td>\n",
       "      <td>1230.0</td>\n",
       "      <td>...</td>\n",
       "      <td>83.0</td>\n",
       "      <td>65.0</td>\n",
       "      <td>414.0</td>\n",
       "      <td>0.0</td>\n",
       "      <td>0.0</td>\n",
       "      <td>3.0</td>\n",
       "      <td>0.0</td>\n",
       "      <td>3.0</td>\n",
       "      <td>0</td>\n",
       "      <td>0</td>\n",
       "    </tr>\n",
       "    <tr>\n",
       "      <th>2</th>\n",
       "      <td>2018-01-01</td>\n",
       "      <td>3</td>\n",
       "      <td>1330.0</td>\n",
       "      <td>-5.0</td>\n",
       "      <td>15.0</td>\n",
       "      <td>3</td>\n",
       "      <td>3</td>\n",
       "      <td>5.0</td>\n",
       "      <td>3</td>\n",
       "      <td>1636.0</td>\n",
       "      <td>...</td>\n",
       "      <td>126.0</td>\n",
       "      <td>106.0</td>\n",
       "      <td>846.0</td>\n",
       "      <td>0.0</td>\n",
       "      <td>0.0</td>\n",
       "      <td>3.0</td>\n",
       "      <td>0.0</td>\n",
       "      <td>3.0</td>\n",
       "      <td>0</td>\n",
       "      <td>0</td>\n",
       "    </tr>\n",
       "    <tr>\n",
       "      <th>3</th>\n",
       "      <td>2018-01-01</td>\n",
       "      <td>3</td>\n",
       "      <td>1552.0</td>\n",
       "      <td>6.0</td>\n",
       "      <td>19.0</td>\n",
       "      <td>3</td>\n",
       "      <td>3</td>\n",
       "      <td>6.0</td>\n",
       "      <td>3</td>\n",
       "      <td>1754.0</td>\n",
       "      <td>...</td>\n",
       "      <td>182.0</td>\n",
       "      <td>157.0</td>\n",
       "      <td>1120.0</td>\n",
       "      <td>0.0</td>\n",
       "      <td>0.0</td>\n",
       "      <td>3.0</td>\n",
       "      <td>0.0</td>\n",
       "      <td>3.0</td>\n",
       "      <td>0</td>\n",
       "      <td>0</td>\n",
       "    </tr>\n",
       "    <tr>\n",
       "      <th>4</th>\n",
       "      <td>2018-01-01</td>\n",
       "      <td>2</td>\n",
       "      <td>650.0</td>\n",
       "      <td>20.0</td>\n",
       "      <td>13.0</td>\n",
       "      <td>2</td>\n",
       "      <td>2</td>\n",
       "      <td>10.0</td>\n",
       "      <td>2</td>\n",
       "      <td>936.0</td>\n",
       "      <td>...</td>\n",
       "      <td>106.0</td>\n",
       "      <td>83.0</td>\n",
       "      <td>723.0</td>\n",
       "      <td>0.0</td>\n",
       "      <td>0.0</td>\n",
       "      <td>3.0</td>\n",
       "      <td>0.0</td>\n",
       "      <td>3.0</td>\n",
       "      <td>1</td>\n",
       "      <td>0</td>\n",
       "    </tr>\n",
       "  </tbody>\n",
       "</table>\n",
       "<p>5 rows × 23 columns</p>\n",
       "</div>"
      ],
      "text/plain": [
       "     FL_DATE  CRS_DEP_TIME  DEP_TIME  DEP_DELAY  TAXI_OUT  WHEELS_OFF  \\\n",
       "0 2018-01-01             3    1512.0       -5.0      15.0           3   \n",
       "1 2018-01-01             2    1107.0       -8.0      11.0           2   \n",
       "2 2018-01-01             3    1330.0       -5.0      15.0           3   \n",
       "3 2018-01-01             3    1552.0        6.0      19.0           3   \n",
       "4 2018-01-01             2     650.0       20.0      13.0           2   \n",
       "\n",
       "   WHEELS_ON  TAXI_IN  CRS_ARR_TIME  ARR_TIME  ...  ACTUAL_ELAPSED_TIME  \\\n",
       "0          3     10.0             3    1722.0  ...                250.0   \n",
       "1          3      7.0             3    1230.0  ...                 83.0   \n",
       "2          3      5.0             3    1636.0  ...                126.0   \n",
       "3          3      6.0             3    1754.0  ...                182.0   \n",
       "4          2     10.0             2     936.0  ...                106.0   \n",
       "\n",
       "   AIR_TIME  DISTANCE  CARRIER_DELAY  WEATHER_DELAY  NAS_DELAY  \\\n",
       "0     225.0    1605.0            0.0            0.0        3.0   \n",
       "1      65.0     414.0            0.0            0.0        3.0   \n",
       "2     106.0     846.0            0.0            0.0        3.0   \n",
       "3     157.0    1120.0            0.0            0.0        3.0   \n",
       "4      83.0     723.0            0.0            0.0        3.0   \n",
       "\n",
       "   SECURITY_DELAY  LATE_AIRCRAFT_DELAY  Status  WEEKDAY  \n",
       "0             0.0                  3.0       0        0  \n",
       "1             0.0                  3.0       0        0  \n",
       "2             0.0                  3.0       0        0  \n",
       "3             0.0                  3.0       0        0  \n",
       "4             0.0                  3.0       1        0  \n",
       "\n",
       "[5 rows x 23 columns]"
      ]
     },
     "execution_count": 39,
     "metadata": {},
     "output_type": "execute_result"
    }
   ],
   "source": [
    "ml_dataset.head(n=5)"
   ]
  },
  {
   "cell_type": "code",
   "execution_count": 73,
   "metadata": {},
   "outputs": [],
   "source": [
    "# Normalize all features:\n",
    "\n",
    "x = ml_dataset.values #returns a numpy array\n",
    "min_max_scaler = preprocessing.MinMaxScaler()\n",
    "x_scaled = min_max_scaler.fit_transform(x)\n",
    "ml_dataset = pd.DataFrame(x_scaled)"
   ]
  },
  {
   "cell_type": "code",
   "execution_count": 40,
   "metadata": {},
   "outputs": [
    {
     "data": {
      "text/html": [
       "<div>\n",
       "<style scoped>\n",
       "    .dataframe tbody tr th:only-of-type {\n",
       "        vertical-align: middle;\n",
       "    }\n",
       "\n",
       "    .dataframe tbody tr th {\n",
       "        vertical-align: top;\n",
       "    }\n",
       "\n",
       "    .dataframe thead th {\n",
       "        text-align: right;\n",
       "    }\n",
       "</style>\n",
       "<table border=\"1\" class=\"dataframe\">\n",
       "  <thead>\n",
       "    <tr style=\"text-align: right;\">\n",
       "      <th></th>\n",
       "      <th>FL_DATE</th>\n",
       "      <th>CRS_DEP_TIME</th>\n",
       "      <th>DEP_TIME</th>\n",
       "      <th>DEP_DELAY</th>\n",
       "      <th>TAXI_OUT</th>\n",
       "      <th>WHEELS_OFF</th>\n",
       "      <th>WHEELS_ON</th>\n",
       "      <th>TAXI_IN</th>\n",
       "      <th>CRS_ARR_TIME</th>\n",
       "      <th>ARR_TIME</th>\n",
       "      <th>...</th>\n",
       "      <th>ACTUAL_ELAPSED_TIME</th>\n",
       "      <th>AIR_TIME</th>\n",
       "      <th>DISTANCE</th>\n",
       "      <th>CARRIER_DELAY</th>\n",
       "      <th>WEATHER_DELAY</th>\n",
       "      <th>NAS_DELAY</th>\n",
       "      <th>SECURITY_DELAY</th>\n",
       "      <th>LATE_AIRCRAFT_DELAY</th>\n",
       "      <th>Status</th>\n",
       "      <th>WEEKDAY</th>\n",
       "    </tr>\n",
       "  </thead>\n",
       "  <tbody>\n",
       "    <tr>\n",
       "      <th>0</th>\n",
       "      <td>2018-01-01</td>\n",
       "      <td>3</td>\n",
       "      <td>1512.0</td>\n",
       "      <td>-5.0</td>\n",
       "      <td>15.0</td>\n",
       "      <td>3</td>\n",
       "      <td>3</td>\n",
       "      <td>10.0</td>\n",
       "      <td>3</td>\n",
       "      <td>1722.0</td>\n",
       "      <td>...</td>\n",
       "      <td>250.0</td>\n",
       "      <td>225.0</td>\n",
       "      <td>1605.0</td>\n",
       "      <td>0.0</td>\n",
       "      <td>0.0</td>\n",
       "      <td>3.0</td>\n",
       "      <td>0.0</td>\n",
       "      <td>3.0</td>\n",
       "      <td>0</td>\n",
       "      <td>0</td>\n",
       "    </tr>\n",
       "    <tr>\n",
       "      <th>1</th>\n",
       "      <td>2018-01-01</td>\n",
       "      <td>2</td>\n",
       "      <td>1107.0</td>\n",
       "      <td>-8.0</td>\n",
       "      <td>11.0</td>\n",
       "      <td>2</td>\n",
       "      <td>3</td>\n",
       "      <td>7.0</td>\n",
       "      <td>3</td>\n",
       "      <td>1230.0</td>\n",
       "      <td>...</td>\n",
       "      <td>83.0</td>\n",
       "      <td>65.0</td>\n",
       "      <td>414.0</td>\n",
       "      <td>0.0</td>\n",
       "      <td>0.0</td>\n",
       "      <td>3.0</td>\n",
       "      <td>0.0</td>\n",
       "      <td>3.0</td>\n",
       "      <td>0</td>\n",
       "      <td>0</td>\n",
       "    </tr>\n",
       "    <tr>\n",
       "      <th>2</th>\n",
       "      <td>2018-01-01</td>\n",
       "      <td>3</td>\n",
       "      <td>1330.0</td>\n",
       "      <td>-5.0</td>\n",
       "      <td>15.0</td>\n",
       "      <td>3</td>\n",
       "      <td>3</td>\n",
       "      <td>5.0</td>\n",
       "      <td>3</td>\n",
       "      <td>1636.0</td>\n",
       "      <td>...</td>\n",
       "      <td>126.0</td>\n",
       "      <td>106.0</td>\n",
       "      <td>846.0</td>\n",
       "      <td>0.0</td>\n",
       "      <td>0.0</td>\n",
       "      <td>3.0</td>\n",
       "      <td>0.0</td>\n",
       "      <td>3.0</td>\n",
       "      <td>0</td>\n",
       "      <td>0</td>\n",
       "    </tr>\n",
       "    <tr>\n",
       "      <th>3</th>\n",
       "      <td>2018-01-01</td>\n",
       "      <td>3</td>\n",
       "      <td>1552.0</td>\n",
       "      <td>6.0</td>\n",
       "      <td>19.0</td>\n",
       "      <td>3</td>\n",
       "      <td>3</td>\n",
       "      <td>6.0</td>\n",
       "      <td>3</td>\n",
       "      <td>1754.0</td>\n",
       "      <td>...</td>\n",
       "      <td>182.0</td>\n",
       "      <td>157.0</td>\n",
       "      <td>1120.0</td>\n",
       "      <td>0.0</td>\n",
       "      <td>0.0</td>\n",
       "      <td>3.0</td>\n",
       "      <td>0.0</td>\n",
       "      <td>3.0</td>\n",
       "      <td>0</td>\n",
       "      <td>0</td>\n",
       "    </tr>\n",
       "    <tr>\n",
       "      <th>4</th>\n",
       "      <td>2018-01-01</td>\n",
       "      <td>2</td>\n",
       "      <td>650.0</td>\n",
       "      <td>20.0</td>\n",
       "      <td>13.0</td>\n",
       "      <td>2</td>\n",
       "      <td>2</td>\n",
       "      <td>10.0</td>\n",
       "      <td>2</td>\n",
       "      <td>936.0</td>\n",
       "      <td>...</td>\n",
       "      <td>106.0</td>\n",
       "      <td>83.0</td>\n",
       "      <td>723.0</td>\n",
       "      <td>0.0</td>\n",
       "      <td>0.0</td>\n",
       "      <td>3.0</td>\n",
       "      <td>0.0</td>\n",
       "      <td>3.0</td>\n",
       "      <td>1</td>\n",
       "      <td>0</td>\n",
       "    </tr>\n",
       "  </tbody>\n",
       "</table>\n",
       "<p>5 rows × 23 columns</p>\n",
       "</div>"
      ],
      "text/plain": [
       "     FL_DATE  CRS_DEP_TIME  DEP_TIME  DEP_DELAY  TAXI_OUT  WHEELS_OFF  \\\n",
       "0 2018-01-01             3    1512.0       -5.0      15.0           3   \n",
       "1 2018-01-01             2    1107.0       -8.0      11.0           2   \n",
       "2 2018-01-01             3    1330.0       -5.0      15.0           3   \n",
       "3 2018-01-01             3    1552.0        6.0      19.0           3   \n",
       "4 2018-01-01             2     650.0       20.0      13.0           2   \n",
       "\n",
       "   WHEELS_ON  TAXI_IN  CRS_ARR_TIME  ARR_TIME  ...  ACTUAL_ELAPSED_TIME  \\\n",
       "0          3     10.0             3    1722.0  ...                250.0   \n",
       "1          3      7.0             3    1230.0  ...                 83.0   \n",
       "2          3      5.0             3    1636.0  ...                126.0   \n",
       "3          3      6.0             3    1754.0  ...                182.0   \n",
       "4          2     10.0             2     936.0  ...                106.0   \n",
       "\n",
       "   AIR_TIME  DISTANCE  CARRIER_DELAY  WEATHER_DELAY  NAS_DELAY  \\\n",
       "0     225.0    1605.0            0.0            0.0        3.0   \n",
       "1      65.0     414.0            0.0            0.0        3.0   \n",
       "2     106.0     846.0            0.0            0.0        3.0   \n",
       "3     157.0    1120.0            0.0            0.0        3.0   \n",
       "4      83.0     723.0            0.0            0.0        3.0   \n",
       "\n",
       "   SECURITY_DELAY  LATE_AIRCRAFT_DELAY  Status  WEEKDAY  \n",
       "0             0.0                  3.0       0        0  \n",
       "1             0.0                  3.0       0        0  \n",
       "2             0.0                  3.0       0        0  \n",
       "3             0.0                  3.0       0        0  \n",
       "4             0.0                  3.0       1        0  \n",
       "\n",
       "[5 rows x 23 columns]"
      ]
     },
     "execution_count": 40,
     "metadata": {},
     "output_type": "execute_result"
    }
   ],
   "source": [
    "ml_dataset.head(n=5)"
   ]
  },
  {
   "cell_type": "code",
   "execution_count": 45,
   "metadata": {},
   "outputs": [
    {
     "data": {
      "text/plain": [
       "Index(['CRS_DEP_TIME', 'DEP_TIME', 'TAXI_OUT', 'WHEELS_OFF', 'WHEELS_ON',\n",
       "       'TAXI_IN', 'CRS_ARR_TIME', 'ARR_TIME', 'CANCELLED', 'CRS_ELAPSED_TIME',\n",
       "       'ACTUAL_ELAPSED_TIME', 'AIR_TIME', 'DISTANCE', 'CARRIER_DELAY',\n",
       "       'WEATHER_DELAY', 'NAS_DELAY', 'SECURITY_DELAY', 'LATE_AIRCRAFT_DELAY'],\n",
       "      dtype='object')"
      ]
     },
     "execution_count": 45,
     "metadata": {},
     "output_type": "execute_result"
    }
   ],
   "source": [
    "ml_dataset.columns"
   ]
  },
  {
   "cell_type": "code",
   "execution_count": 44,
   "metadata": {},
   "outputs": [],
   "source": [
    "# irrelevent features: 'DEP_TIME','ARR_TIME'\n",
    "ml_dataset.drop(['FL_DATE', 'WEEKDAY' ], axis=1, inplace=True)"
   ]
  },
  {
   "cell_type": "code",
   "execution_count": 75,
   "metadata": {},
   "outputs": [
    {
     "data": {
      "text/plain": [
       "(7071817, 18)"
      ]
     },
     "execution_count": 75,
     "metadata": {},
     "output_type": "execute_result"
    }
   ],
   "source": [
    "X = ml_dataset\n",
    "X.shape"
   ]
  },
  {
   "cell_type": "code",
   "execution_count": 76,
   "metadata": {},
   "outputs": [
    {
     "data": {
      "text/plain": [
       "(7071817,)"
      ]
     },
     "execution_count": 76,
     "metadata": {},
     "output_type": "execute_result"
    }
   ],
   "source": [
    "y = np.array(status)\n",
    "y.shape"
   ]
  },
  {
   "cell_type": "code",
   "execution_count": 77,
   "metadata": {},
   "outputs": [],
   "source": [
    "# Perform the split\n",
    "X_train,X_test,y_train,y_test = train_test_split(X,y,test_size=0.2,random_state = 2)"
   ]
  },
  {
   "cell_type": "markdown",
   "metadata": {},
   "source": [
    "## ML Models:"
   ]
  },
  {
   "cell_type": "markdown",
   "metadata": {},
   "source": [
    "#### 1. RandomForest"
   ]
  },
  {
   "cell_type": "code",
   "execution_count": 52,
   "metadata": {},
   "outputs": [
    {
     "name": "stdout",
     "output_type": "stream",
     "text": [
      "Testing Accuracy for Random Forest Classifier: 0.8155686937733143\n"
     ]
    }
   ],
   "source": [
    "# instantiating the RandomForestClassifier\n",
    "clf_rf = RandomForestClassifier(n_estimators=100, max_depth=5)\n",
    "clf_rf.fit(X_train, y_train)\n",
    "\n",
    "#check the accuracy score\n",
    "clf_rf.score(X_train, y_train)\n",
    "\n",
    "clf_rf.score(X_test, y_test)\n",
    "\n"
   ]
  },
  {
   "cell_type": "code",
   "execution_count": 62,
   "metadata": {},
   "outputs": [
    {
     "name": "stdout",
     "output_type": "stream",
     "text": [
      "Testing Accuracy for Random Forest Classifier: 0.8155686937733143\n"
     ]
    }
   ],
   "source": [
    "# Test set predictions\n",
    "pred = clf_rf.predict(X_test)\n",
    "\n",
    "print('Testing Accuracy for Random Forest Classifier:', accuracy_score(y_test, pred))"
   ]
  },
  {
   "cell_type": "code",
   "execution_count": 87,
   "metadata": {},
   "outputs": [
    {
     "name": "stdout",
     "output_type": "stream",
     "text": [
      "Classificiation Report\n",
      "---------------------\n",
      "              precision    recall  f1-score   support\n",
      "\n",
      "           0       0.77      1.00      0.87    882507\n",
      "           1       1.00      0.51      0.68    531857\n",
      "\n",
      "    accuracy                           0.82   1414364\n",
      "   macro avg       0.89      0.75      0.77   1414364\n",
      "weighted avg       0.86      0.82      0.80   1414364\n",
      "\n"
     ]
    }
   ],
   "source": [
    "print('Classificiation Report')\n",
    "print('---------------------')\n",
    "print(classification_report(y_test, pred))"
   ]
  },
  {
   "cell_type": "code",
   "execution_count": 88,
   "metadata": {},
   "outputs": [
    {
     "ename": "ValueError",
     "evalue": "X has 18 features, but RandomForestClassifier is expecting 17 features as input.",
     "output_type": "error",
     "traceback": [
      "\u001b[1;31m---------------------------------------------------------------------------\u001b[0m",
      "\u001b[1;31mValueError\u001b[0m                                Traceback (most recent call last)",
      "\u001b[1;32mc:\\Collage\\Bigdata\\Project\\Airline_Delay_Cancellation_Detection\\classification\\Classification_model.ipynb Cell 29'\u001b[0m in \u001b[0;36m<cell line: 2>\u001b[1;34m()\u001b[0m\n\u001b[0;32m      <a href='vscode-notebook-cell:/c%3A/Collage/Bigdata/Project/Airline_Delay_Cancellation_Detection/classification/Classification_model.ipynb#ch0000043?line=0'>1</a>\u001b[0m \u001b[39m# Alternative confusion matrix\u001b[39;00m\n\u001b[1;32m----> <a href='vscode-notebook-cell:/c%3A/Collage/Bigdata/Project/Airline_Delay_Cancellation_Detection/classification/Classification_model.ipynb#ch0000043?line=1'>2</a>\u001b[0m plot_confusion_matrix(clf_rf, X, y , values_format\u001b[39m=\u001b[39;49m\u001b[39m'\u001b[39;49m\u001b[39m.3g\u001b[39;49m\u001b[39m'\u001b[39;49m)\n\u001b[0;32m      <a href='vscode-notebook-cell:/c%3A/Collage/Bigdata/Project/Airline_Delay_Cancellation_Detection/classification/Classification_model.ipynb#ch0000043?line=2'>3</a>\u001b[0m plt\u001b[39m.\u001b[39mshow()\n",
      "File \u001b[1;32mc:\\Users\\HP\\anaconda3\\envs\\cufe\\lib\\site-packages\\sklearn\\utils\\deprecation.py:88\u001b[0m, in \u001b[0;36mdeprecated._decorate_fun.<locals>.wrapped\u001b[1;34m(*args, **kwargs)\u001b[0m\n\u001b[0;32m     <a href='file:///c%3A/Users/HP/anaconda3/envs/cufe/lib/site-packages/sklearn/utils/deprecation.py?line=84'>85</a>\u001b[0m \u001b[39m@functools\u001b[39m\u001b[39m.\u001b[39mwraps(fun)\n\u001b[0;32m     <a href='file:///c%3A/Users/HP/anaconda3/envs/cufe/lib/site-packages/sklearn/utils/deprecation.py?line=85'>86</a>\u001b[0m \u001b[39mdef\u001b[39;00m \u001b[39mwrapped\u001b[39m(\u001b[39m*\u001b[39margs, \u001b[39m*\u001b[39m\u001b[39m*\u001b[39mkwargs):\n\u001b[0;32m     <a href='file:///c%3A/Users/HP/anaconda3/envs/cufe/lib/site-packages/sklearn/utils/deprecation.py?line=86'>87</a>\u001b[0m     warnings\u001b[39m.\u001b[39mwarn(msg, category\u001b[39m=\u001b[39m\u001b[39mFutureWarning\u001b[39;00m)\n\u001b[1;32m---> <a href='file:///c%3A/Users/HP/anaconda3/envs/cufe/lib/site-packages/sklearn/utils/deprecation.py?line=87'>88</a>\u001b[0m     \u001b[39mreturn\u001b[39;00m fun(\u001b[39m*\u001b[39;49margs, \u001b[39m*\u001b[39;49m\u001b[39m*\u001b[39;49mkwargs)\n",
      "File \u001b[1;32mc:\\Users\\HP\\anaconda3\\envs\\cufe\\lib\\site-packages\\sklearn\\metrics\\_plot\\confusion_matrix.py:584\u001b[0m, in \u001b[0;36mplot_confusion_matrix\u001b[1;34m(estimator, X, y_true, labels, sample_weight, normalize, display_labels, include_values, xticks_rotation, values_format, cmap, ax, colorbar)\u001b[0m\n\u001b[0;32m    <a href='file:///c%3A/Users/HP/anaconda3/envs/cufe/lib/site-packages/sklearn/metrics/_plot/confusion_matrix.py?line=580'>581</a>\u001b[0m \u001b[39mif\u001b[39;00m \u001b[39mnot\u001b[39;00m is_classifier(estimator):\n\u001b[0;32m    <a href='file:///c%3A/Users/HP/anaconda3/envs/cufe/lib/site-packages/sklearn/metrics/_plot/confusion_matrix.py?line=581'>582</a>\u001b[0m     \u001b[39mraise\u001b[39;00m \u001b[39mValueError\u001b[39;00m(\u001b[39m\"\u001b[39m\u001b[39mplot_confusion_matrix only supports classifiers\u001b[39m\u001b[39m\"\u001b[39m)\n\u001b[1;32m--> <a href='file:///c%3A/Users/HP/anaconda3/envs/cufe/lib/site-packages/sklearn/metrics/_plot/confusion_matrix.py?line=583'>584</a>\u001b[0m y_pred \u001b[39m=\u001b[39m estimator\u001b[39m.\u001b[39;49mpredict(X)\n\u001b[0;32m    <a href='file:///c%3A/Users/HP/anaconda3/envs/cufe/lib/site-packages/sklearn/metrics/_plot/confusion_matrix.py?line=584'>585</a>\u001b[0m cm \u001b[39m=\u001b[39m confusion_matrix(\n\u001b[0;32m    <a href='file:///c%3A/Users/HP/anaconda3/envs/cufe/lib/site-packages/sklearn/metrics/_plot/confusion_matrix.py?line=585'>586</a>\u001b[0m     y_true, y_pred, sample_weight\u001b[39m=\u001b[39msample_weight, labels\u001b[39m=\u001b[39mlabels, normalize\u001b[39m=\u001b[39mnormalize\n\u001b[0;32m    <a href='file:///c%3A/Users/HP/anaconda3/envs/cufe/lib/site-packages/sklearn/metrics/_plot/confusion_matrix.py?line=586'>587</a>\u001b[0m )\n\u001b[0;32m    <a href='file:///c%3A/Users/HP/anaconda3/envs/cufe/lib/site-packages/sklearn/metrics/_plot/confusion_matrix.py?line=588'>589</a>\u001b[0m \u001b[39mif\u001b[39;00m display_labels \u001b[39mis\u001b[39;00m \u001b[39mNone\u001b[39;00m:\n",
      "File \u001b[1;32mc:\\Users\\HP\\anaconda3\\envs\\cufe\\lib\\site-packages\\sklearn\\ensemble\\_forest.py:832\u001b[0m, in \u001b[0;36mForestClassifier.predict\u001b[1;34m(self, X)\u001b[0m\n\u001b[0;32m    <a href='file:///c%3A/Users/HP/anaconda3/envs/cufe/lib/site-packages/sklearn/ensemble/_forest.py?line=810'>811</a>\u001b[0m \u001b[39mdef\u001b[39;00m \u001b[39mpredict\u001b[39m(\u001b[39mself\u001b[39m, X):\n\u001b[0;32m    <a href='file:///c%3A/Users/HP/anaconda3/envs/cufe/lib/site-packages/sklearn/ensemble/_forest.py?line=811'>812</a>\u001b[0m     \u001b[39m\"\"\"\u001b[39;00m\n\u001b[0;32m    <a href='file:///c%3A/Users/HP/anaconda3/envs/cufe/lib/site-packages/sklearn/ensemble/_forest.py?line=812'>813</a>\u001b[0m \u001b[39m    Predict class for X.\u001b[39;00m\n\u001b[0;32m    <a href='file:///c%3A/Users/HP/anaconda3/envs/cufe/lib/site-packages/sklearn/ensemble/_forest.py?line=813'>814</a>\u001b[0m \n\u001b[1;32m   (...)\u001b[0m\n\u001b[0;32m    <a href='file:///c%3A/Users/HP/anaconda3/envs/cufe/lib/site-packages/sklearn/ensemble/_forest.py?line=829'>830</a>\u001b[0m \u001b[39m        The predicted classes.\u001b[39;00m\n\u001b[0;32m    <a href='file:///c%3A/Users/HP/anaconda3/envs/cufe/lib/site-packages/sklearn/ensemble/_forest.py?line=830'>831</a>\u001b[0m \u001b[39m    \"\"\"\u001b[39;00m\n\u001b[1;32m--> <a href='file:///c%3A/Users/HP/anaconda3/envs/cufe/lib/site-packages/sklearn/ensemble/_forest.py?line=831'>832</a>\u001b[0m     proba \u001b[39m=\u001b[39m \u001b[39mself\u001b[39;49m\u001b[39m.\u001b[39;49mpredict_proba(X)\n\u001b[0;32m    <a href='file:///c%3A/Users/HP/anaconda3/envs/cufe/lib/site-packages/sklearn/ensemble/_forest.py?line=833'>834</a>\u001b[0m     \u001b[39mif\u001b[39;00m \u001b[39mself\u001b[39m\u001b[39m.\u001b[39mn_outputs_ \u001b[39m==\u001b[39m \u001b[39m1\u001b[39m:\n\u001b[0;32m    <a href='file:///c%3A/Users/HP/anaconda3/envs/cufe/lib/site-packages/sklearn/ensemble/_forest.py?line=834'>835</a>\u001b[0m         \u001b[39mreturn\u001b[39;00m \u001b[39mself\u001b[39m\u001b[39m.\u001b[39mclasses_\u001b[39m.\u001b[39mtake(np\u001b[39m.\u001b[39margmax(proba, axis\u001b[39m=\u001b[39m\u001b[39m1\u001b[39m), axis\u001b[39m=\u001b[39m\u001b[39m0\u001b[39m)\n",
      "File \u001b[1;32mc:\\Users\\HP\\anaconda3\\envs\\cufe\\lib\\site-packages\\sklearn\\ensemble\\_forest.py:874\u001b[0m, in \u001b[0;36mForestClassifier.predict_proba\u001b[1;34m(self, X)\u001b[0m\n\u001b[0;32m    <a href='file:///c%3A/Users/HP/anaconda3/envs/cufe/lib/site-packages/sklearn/ensemble/_forest.py?line=871'>872</a>\u001b[0m check_is_fitted(\u001b[39mself\u001b[39m)\n\u001b[0;32m    <a href='file:///c%3A/Users/HP/anaconda3/envs/cufe/lib/site-packages/sklearn/ensemble/_forest.py?line=872'>873</a>\u001b[0m \u001b[39m# Check data\u001b[39;00m\n\u001b[1;32m--> <a href='file:///c%3A/Users/HP/anaconda3/envs/cufe/lib/site-packages/sklearn/ensemble/_forest.py?line=873'>874</a>\u001b[0m X \u001b[39m=\u001b[39m \u001b[39mself\u001b[39;49m\u001b[39m.\u001b[39;49m_validate_X_predict(X)\n\u001b[0;32m    <a href='file:///c%3A/Users/HP/anaconda3/envs/cufe/lib/site-packages/sklearn/ensemble/_forest.py?line=875'>876</a>\u001b[0m \u001b[39m# Assign chunk of trees to jobs\u001b[39;00m\n\u001b[0;32m    <a href='file:///c%3A/Users/HP/anaconda3/envs/cufe/lib/site-packages/sklearn/ensemble/_forest.py?line=876'>877</a>\u001b[0m n_jobs, _, _ \u001b[39m=\u001b[39m _partition_estimators(\u001b[39mself\u001b[39m\u001b[39m.\u001b[39mn_estimators, \u001b[39mself\u001b[39m\u001b[39m.\u001b[39mn_jobs)\n",
      "File \u001b[1;32mc:\\Users\\HP\\anaconda3\\envs\\cufe\\lib\\site-packages\\sklearn\\ensemble\\_forest.py:605\u001b[0m, in \u001b[0;36mBaseForest._validate_X_predict\u001b[1;34m(self, X)\u001b[0m\n\u001b[0;32m    <a href='file:///c%3A/Users/HP/anaconda3/envs/cufe/lib/site-packages/sklearn/ensemble/_forest.py?line=601'>602</a>\u001b[0m \u001b[39m\"\"\"\u001b[39;00m\n\u001b[0;32m    <a href='file:///c%3A/Users/HP/anaconda3/envs/cufe/lib/site-packages/sklearn/ensemble/_forest.py?line=602'>603</a>\u001b[0m \u001b[39mValidate X whenever one tries to predict, apply, predict_proba.\"\"\"\u001b[39;00m\n\u001b[0;32m    <a href='file:///c%3A/Users/HP/anaconda3/envs/cufe/lib/site-packages/sklearn/ensemble/_forest.py?line=603'>604</a>\u001b[0m check_is_fitted(\u001b[39mself\u001b[39m)\n\u001b[1;32m--> <a href='file:///c%3A/Users/HP/anaconda3/envs/cufe/lib/site-packages/sklearn/ensemble/_forest.py?line=604'>605</a>\u001b[0m X \u001b[39m=\u001b[39m \u001b[39mself\u001b[39;49m\u001b[39m.\u001b[39;49m_validate_data(X, dtype\u001b[39m=\u001b[39;49mDTYPE, accept_sparse\u001b[39m=\u001b[39;49m\u001b[39m\"\u001b[39;49m\u001b[39mcsr\u001b[39;49m\u001b[39m\"\u001b[39;49m, reset\u001b[39m=\u001b[39;49m\u001b[39mFalse\u001b[39;49;00m)\n\u001b[0;32m    <a href='file:///c%3A/Users/HP/anaconda3/envs/cufe/lib/site-packages/sklearn/ensemble/_forest.py?line=605'>606</a>\u001b[0m \u001b[39mif\u001b[39;00m issparse(X) \u001b[39mand\u001b[39;00m (X\u001b[39m.\u001b[39mindices\u001b[39m.\u001b[39mdtype \u001b[39m!=\u001b[39m np\u001b[39m.\u001b[39mintc \u001b[39mor\u001b[39;00m X\u001b[39m.\u001b[39mindptr\u001b[39m.\u001b[39mdtype \u001b[39m!=\u001b[39m np\u001b[39m.\u001b[39mintc):\n\u001b[0;32m    <a href='file:///c%3A/Users/HP/anaconda3/envs/cufe/lib/site-packages/sklearn/ensemble/_forest.py?line=606'>607</a>\u001b[0m     \u001b[39mraise\u001b[39;00m \u001b[39mValueError\u001b[39;00m(\u001b[39m\"\u001b[39m\u001b[39mNo support for np.int64 index based sparse matrices\u001b[39m\u001b[39m\"\u001b[39m)\n",
      "File \u001b[1;32mc:\\Users\\HP\\anaconda3\\envs\\cufe\\lib\\site-packages\\sklearn\\base.py:600\u001b[0m, in \u001b[0;36mBaseEstimator._validate_data\u001b[1;34m(self, X, y, reset, validate_separately, **check_params)\u001b[0m\n\u001b[0;32m    <a href='file:///c%3A/Users/HP/anaconda3/envs/cufe/lib/site-packages/sklearn/base.py?line=596'>597</a>\u001b[0m     out \u001b[39m=\u001b[39m X, y\n\u001b[0;32m    <a href='file:///c%3A/Users/HP/anaconda3/envs/cufe/lib/site-packages/sklearn/base.py?line=598'>599</a>\u001b[0m \u001b[39mif\u001b[39;00m \u001b[39mnot\u001b[39;00m no_val_X \u001b[39mand\u001b[39;00m check_params\u001b[39m.\u001b[39mget(\u001b[39m\"\u001b[39m\u001b[39mensure_2d\u001b[39m\u001b[39m\"\u001b[39m, \u001b[39mTrue\u001b[39;00m):\n\u001b[1;32m--> <a href='file:///c%3A/Users/HP/anaconda3/envs/cufe/lib/site-packages/sklearn/base.py?line=599'>600</a>\u001b[0m     \u001b[39mself\u001b[39;49m\u001b[39m.\u001b[39;49m_check_n_features(X, reset\u001b[39m=\u001b[39;49mreset)\n\u001b[0;32m    <a href='file:///c%3A/Users/HP/anaconda3/envs/cufe/lib/site-packages/sklearn/base.py?line=601'>602</a>\u001b[0m \u001b[39mreturn\u001b[39;00m out\n",
      "File \u001b[1;32mc:\\Users\\HP\\anaconda3\\envs\\cufe\\lib\\site-packages\\sklearn\\base.py:400\u001b[0m, in \u001b[0;36mBaseEstimator._check_n_features\u001b[1;34m(self, X, reset)\u001b[0m\n\u001b[0;32m    <a href='file:///c%3A/Users/HP/anaconda3/envs/cufe/lib/site-packages/sklearn/base.py?line=396'>397</a>\u001b[0m     \u001b[39mreturn\u001b[39;00m\n\u001b[0;32m    <a href='file:///c%3A/Users/HP/anaconda3/envs/cufe/lib/site-packages/sklearn/base.py?line=398'>399</a>\u001b[0m \u001b[39mif\u001b[39;00m n_features \u001b[39m!=\u001b[39m \u001b[39mself\u001b[39m\u001b[39m.\u001b[39mn_features_in_:\n\u001b[1;32m--> <a href='file:///c%3A/Users/HP/anaconda3/envs/cufe/lib/site-packages/sklearn/base.py?line=399'>400</a>\u001b[0m     \u001b[39mraise\u001b[39;00m \u001b[39mValueError\u001b[39;00m(\n\u001b[0;32m    <a href='file:///c%3A/Users/HP/anaconda3/envs/cufe/lib/site-packages/sklearn/base.py?line=400'>401</a>\u001b[0m         \u001b[39mf\u001b[39m\u001b[39m\"\u001b[39m\u001b[39mX has \u001b[39m\u001b[39m{\u001b[39;00mn_features\u001b[39m}\u001b[39;00m\u001b[39m features, but \u001b[39m\u001b[39m{\u001b[39;00m\u001b[39mself\u001b[39m\u001b[39m.\u001b[39m\u001b[39m__class__\u001b[39m\u001b[39m.\u001b[39m\u001b[39m__name__\u001b[39m\u001b[39m}\u001b[39;00m\u001b[39m \u001b[39m\u001b[39m\"\u001b[39m\n\u001b[0;32m    <a href='file:///c%3A/Users/HP/anaconda3/envs/cufe/lib/site-packages/sklearn/base.py?line=401'>402</a>\u001b[0m         \u001b[39mf\u001b[39m\u001b[39m\"\u001b[39m\u001b[39mis expecting \u001b[39m\u001b[39m{\u001b[39;00m\u001b[39mself\u001b[39m\u001b[39m.\u001b[39mn_features_in_\u001b[39m}\u001b[39;00m\u001b[39m features as input.\u001b[39m\u001b[39m\"\u001b[39m\n\u001b[0;32m    <a href='file:///c%3A/Users/HP/anaconda3/envs/cufe/lib/site-packages/sklearn/base.py?line=402'>403</a>\u001b[0m     )\n",
      "\u001b[1;31mValueError\u001b[0m: X has 18 features, but RandomForestClassifier is expecting 17 features as input."
     ]
    }
   ],
   "source": [
    "# Alternative confusion matrix\n",
    "plot_confusion_matrix(clf_rf, X, y , values_format='.3g')\n",
    "plt.show()"
   ]
  },
  {
   "cell_type": "code",
   "execution_count": null,
   "metadata": {},
   "outputs": [
    {
     "name": "stdout",
     "output_type": "stream",
     "text": [
      "\n",
      "Confusion Matrix\n",
      "----------------\n"
     ]
    },
    {
     "data": {
      "text/html": [
       "<div>\n",
       "<style scoped>\n",
       "    .dataframe tbody tr th:only-of-type {\n",
       "        vertical-align: middle;\n",
       "    }\n",
       "\n",
       "    .dataframe tbody tr th {\n",
       "        vertical-align: top;\n",
       "    }\n",
       "\n",
       "    .dataframe thead th {\n",
       "        text-align: right;\n",
       "    }\n",
       "</style>\n",
       "<table border=\"1\" class=\"dataframe\">\n",
       "  <thead>\n",
       "    <tr style=\"text-align: right;\">\n",
       "      <th>Predicted</th>\n",
       "      <th>0</th>\n",
       "      <th>1</th>\n",
       "      <th>All</th>\n",
       "    </tr>\n",
       "    <tr>\n",
       "      <th>True</th>\n",
       "      <th></th>\n",
       "      <th></th>\n",
       "      <th></th>\n",
       "    </tr>\n",
       "  </thead>\n",
       "  <tbody>\n",
       "    <tr>\n",
       "      <th>0</th>\n",
       "      <td>882490</td>\n",
       "      <td>17</td>\n",
       "      <td>882507</td>\n",
       "    </tr>\n",
       "    <tr>\n",
       "      <th>1</th>\n",
       "      <td>260836</td>\n",
       "      <td>271021</td>\n",
       "      <td>531857</td>\n",
       "    </tr>\n",
       "    <tr>\n",
       "      <th>All</th>\n",
       "      <td>1143326</td>\n",
       "      <td>271038</td>\n",
       "      <td>1414364</td>\n",
       "    </tr>\n",
       "  </tbody>\n",
       "</table>\n",
       "</div>"
      ],
      "text/plain": [
       "Predicted        0       1      All\n",
       "True                               \n",
       "0           882490      17   882507\n",
       "1           260836  271021   531857\n",
       "All        1143326  271038  1414364"
      ]
     },
     "execution_count": 63,
     "metadata": {},
     "output_type": "execute_result"
    }
   ],
   "source": [
    "# confusion matrix and classfication report\n",
    "print('\\nConfusion Matrix')\n",
    "print('----------------')\n",
    "pd.crosstab(y_test, pred, rownames=['True'], colnames=['Predicted'], margins=True)"
   ]
  },
  {
   "cell_type": "code",
   "execution_count": null,
   "metadata": {},
   "outputs": [],
   "source": [
    "def plot_feature_importances(model):\n",
    "    n_features = X_train.shape[1]\n",
    "    plt.figure(figsize=(10, 20))\n",
    "    plt.barh(range(n_features), model.feature_importances_, color='k', align='center')\n",
    "    plt.yticks(np.arange(n_features), X_train.columns.values)\n",
    "    plt.xlabel('Feature importance')\n",
    "    plt.ylabel('Features')\n",
    "    plt.rcParams[\"figure.facecolor\"] = \"lightblue\"\n",
    "    plt.grid(True)"
   ]
  },
  {
   "cell_type": "code",
   "execution_count": null,
   "metadata": {},
   "outputs": [
    {
     "data": {
      "image/png": "[encoded data removed]",
      "text/plain": [
       "<Figure size 720x1440 with 1 Axes>"
      ]
     },
     "metadata": {
      "needs_background": "light"
     },
     "output_type": "display_data"
    }
   ],
   "source": [
    "#plot feature importance of Random Forest Classifier\n",
    "plot_feature_importances(clf_rf)\n",
    "plt.rcParams[\"figure.facecolor\"] = \"lightblue\""
   ]
  },
  {
   "cell_type": "markdown",
   "metadata": {},
   "source": [
    "#### 2. Logistic Regression"
   ]
  },
  {
   "cell_type": "code",
   "execution_count": 86,
   "metadata": {},
   "outputs": [
    {
     "name": "stdout",
     "output_type": "stream",
     "text": [
      "Testing Accuracy for Logistic Regression: 0.8675934907845505\n"
     ]
    }
   ],
   "source": [
    "clf_lr = LogisticRegression(solver='lbfgs',max_iter=200,random_state=1)\n",
    "clf_lr.fit(X_train, y_train)\n",
    "y_pred = clf_lr.predict(X_test)\n",
    "print('Testing Accuracy for Logistic Regression:', accuracy_score(y_test, y_pred))"
   ]
  },
  {
   "cell_type": "code",
   "execution_count": 89,
   "metadata": {},
   "outputs": [
    {
     "name": "stdout",
     "output_type": "stream",
     "text": [
      "Classificiation Report\n",
      "---------------------\n",
      "              precision    recall  f1-score   support\n",
      "\n",
      "           0       0.85      0.96      0.90    882507\n",
      "           1       0.91      0.72      0.80    531857\n",
      "\n",
      "    accuracy                           0.87   1414364\n",
      "   macro avg       0.88      0.84      0.85   1414364\n",
      "weighted avg       0.87      0.87      0.86   1414364\n",
      "\n"
     ]
    }
   ],
   "source": [
    "print('Classificiation Report')\n",
    "print('---------------------')\n",
    "print(classification_report(y_test, y_pred))"
   ]
  },
  {
   "cell_type": "code",
   "execution_count": 90,
   "metadata": {},
   "outputs": [
    {
     "data": {
      "image/png": "[encoded data removed]",
      "text/plain": [
       "<Figure size 432x288 with 2 Axes>"
      ]
     },
     "metadata": {},
     "output_type": "display_data"
    }
   ],
   "source": [
    "# Alternative confusion matrix\n",
    "plot_confusion_matrix(clf_lr, X, y , values_format='.3g')\n",
    "plt.show()"
   ]
  },
  {
   "cell_type": "code",
   "execution_count": 91,
   "metadata": {},
   "outputs": [
    {
     "name": "stdout",
     "output_type": "stream",
     "text": [
      "\n",
      "Confusion Matrix\n",
      "----------------\n"
     ]
    },
    {
     "data": {
      "text/html": [
       "<div>\n",
       "<style scoped>\n",
       "    .dataframe tbody tr th:only-of-type {\n",
       "        vertical-align: middle;\n",
       "    }\n",
       "\n",
       "    .dataframe tbody tr th {\n",
       "        vertical-align: top;\n",
       "    }\n",
       "\n",
       "    .dataframe thead th {\n",
       "        text-align: right;\n",
       "    }\n",
       "</style>\n",
       "<table border=\"1\" class=\"dataframe\">\n",
       "  <thead>\n",
       "    <tr style=\"text-align: right;\">\n",
       "      <th>Predicted</th>\n",
       "      <th>0</th>\n",
       "      <th>1</th>\n",
       "      <th>All</th>\n",
       "    </tr>\n",
       "    <tr>\n",
       "      <th>True</th>\n",
       "      <th></th>\n",
       "      <th></th>\n",
       "      <th></th>\n",
       "    </tr>\n",
       "  </thead>\n",
       "  <tbody>\n",
       "    <tr>\n",
       "      <th>0</th>\n",
       "      <td>844209</td>\n",
       "      <td>38298</td>\n",
       "      <td>882507</td>\n",
       "    </tr>\n",
       "    <tr>\n",
       "      <th>1</th>\n",
       "      <td>148973</td>\n",
       "      <td>382884</td>\n",
       "      <td>531857</td>\n",
       "    </tr>\n",
       "    <tr>\n",
       "      <th>All</th>\n",
       "      <td>993182</td>\n",
       "      <td>421182</td>\n",
       "      <td>1414364</td>\n",
       "    </tr>\n",
       "  </tbody>\n",
       "</table>\n",
       "</div>"
      ],
      "text/plain": [
       "Predicted       0       1      All\n",
       "True                              \n",
       "0          844209   38298   882507\n",
       "1          148973  382884   531857\n",
       "All        993182  421182  1414364"
      ]
     },
     "execution_count": 91,
     "metadata": {},
     "output_type": "execute_result"
    }
   ],
   "source": [
    "# confusion matrix and classfication report\n",
    "print('\\nConfusion Matrix')\n",
    "print('----------------')\n",
    "pd.crosstab(y_test, y_pred, rownames=['True'], colnames=['Predicted'], margins=True)"
   ]
  },
  {
   "cell_type": "code",
   "execution_count": 92,
   "metadata": {},
   "outputs": [
    {
     "data": {
      "text/plain": [
       "<AxesSubplot:>"
      ]
     },
     "execution_count": 92,
     "metadata": {},
     "output_type": "execute_result"
    },
    {
     "data": {
      "image/png": "[encoded data removed]",
      "text/plain": [
       "<Figure size 432x288 with 1 Axes>"
      ]
     },
     "metadata": {},
     "output_type": "display_data"
    }
   ],
   "source": [
    "# plot Logistic Regression graph\n",
    "sns.regplot(x= y_test , y= y_pred , logistic=True, ci=None ,scatter_kws={'color': 'blue'}, line_kws={'color': 'red'})"
   ]
  },
  {
   "cell_type": "code",
   "execution_count": null,
   "metadata": {},
   "outputs": [],
   "source": []
  }
 ],
 "metadata": {
  "interpreter": {
   "hash": "3cdc2ecdd60dced0a09eee11361aead9c88c611efee536d4cb0c0677d944af6b"
  },
  "kernelspec": {
   "display_name": "Python 3.8.12 ('cufe')",
   "language": "python",
   "name": "python3"
  },
  "language_info": {
   "codemirror_mode": {
    "name": "ipython",
    "version": 3
   },
   "file_extension": ".py",
   "mimetype": "text/x-python",
   "name": "python",
   "nbconvert_exporter": "python",
   "pygments_lexer": "ipython3",
   "version": "3.8.12"
  },
  "orig_nbformat": 4
 },
 "nbformat": 4,
 "nbformat_minor": 2
}
